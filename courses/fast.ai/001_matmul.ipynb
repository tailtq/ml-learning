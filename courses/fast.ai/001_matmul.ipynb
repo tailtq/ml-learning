{
 "cells": [
  {
   "cell_type": "code",
   "execution_count": 1,
   "metadata": {},
   "outputs": [],
   "source": [
    "import numpy as np"
   ]
  },
  {
   "cell_type": "code",
   "execution_count": 2,
   "metadata": {},
   "outputs": [],
   "source": [
    "image = np.random.randint(5, size=(256, 256, 3))"
   ]
  },
  {
   "cell_type": "code",
   "execution_count": 3,
   "metadata": {},
   "outputs": [
    {
     "data": {
      "text/plain": [
       "(256, 256, 3)"
      ]
     },
     "execution_count": 3,
     "metadata": {},
     "output_type": "execute_result"
    }
   ],
   "source": [
    "image.shape"
   ]
  },
  {
   "cell_type": "code",
   "execution_count": 8,
   "metadata": {},
   "outputs": [
    {
     "data": {
      "text/plain": [
       "(3,)"
      ]
     },
     "execution_count": 8,
     "metadata": {},
     "output_type": "execute_result"
    }
   ],
   "source": [
    "one = np.ones((3)) * 3\n",
    "one.shape"
   ]
  },
  {
   "cell_type": "code",
   "execution_count": 11,
   "metadata": {},
   "outputs": [
    {
     "data": {
      "text/plain": [
       "array([[[12.,  6., 12.],\n",
       "        [12.,  0.,  6.],\n",
       "        [ 9.,  0.,  6.],\n",
       "        ...,\n",
       "        [ 0.,  0.,  0.],\n",
       "        [ 6.,  3.,  9.],\n",
       "        [12.,  3.,  0.]],\n",
       "\n",
       "       [[12.,  3.,  6.],\n",
       "        [12., 12., 12.],\n",
       "        [ 0.,  6.,  3.],\n",
       "        ...,\n",
       "        [ 6., 12.,  9.],\n",
       "        [ 0.,  0.,  0.],\n",
       "        [12., 12.,  6.]],\n",
       "\n",
       "       [[ 3.,  6.,  3.],\n",
       "        [ 6.,  0.,  6.],\n",
       "        [ 0., 12.,  0.],\n",
       "        ...,\n",
       "        [ 3., 12., 12.],\n",
       "        [ 6.,  0.,  0.],\n",
       "        [ 3.,  3.,  6.]],\n",
       "\n",
       "       ...,\n",
       "\n",
       "       [[ 6.,  3.,  9.],\n",
       "        [ 0.,  3.,  6.],\n",
       "        [ 3., 12.,  9.],\n",
       "        ...,\n",
       "        [12.,  6.,  0.],\n",
       "        [ 3., 12.,  0.],\n",
       "        [ 9.,  3.,  6.]],\n",
       "\n",
       "       [[ 0.,  0.,  0.],\n",
       "        [ 6., 12., 12.],\n",
       "        [ 6.,  3.,  3.],\n",
       "        ...,\n",
       "        [ 0., 12.,  6.],\n",
       "        [ 3.,  9.,  9.],\n",
       "        [ 0., 12.,  9.]],\n",
       "\n",
       "       [[ 6., 12.,  6.],\n",
       "        [ 6.,  0.,  6.],\n",
       "        [12.,  9.,  0.],\n",
       "        ...,\n",
       "        [ 0.,  0., 12.],\n",
       "        [ 3.,  9.,  3.],\n",
       "        [ 6., 12.,  0.]]])"
      ]
     },
     "execution_count": 11,
     "metadata": {},
     "output_type": "execute_result"
    }
   ],
   "source": [
    "(image * one)"
   ]
  },
  {
   "cell_type": "code",
   "execution_count": 9,
   "metadata": {},
   "outputs": [
    {
     "data": {
      "text/plain": [
       "array([[[4, 2, 4],\n",
       "        [4, 0, 2],\n",
       "        [3, 0, 2],\n",
       "        ...,\n",
       "        [0, 0, 0],\n",
       "        [2, 1, 3],\n",
       "        [4, 1, 0]],\n",
       "\n",
       "       [[4, 1, 2],\n",
       "        [4, 4, 4],\n",
       "        [0, 2, 1],\n",
       "        ...,\n",
       "        [2, 4, 3],\n",
       "        [0, 0, 0],\n",
       "        [4, 4, 2]],\n",
       "\n",
       "       [[1, 2, 1],\n",
       "        [2, 0, 2],\n",
       "        [0, 4, 0],\n",
       "        ...,\n",
       "        [1, 4, 4],\n",
       "        [2, 0, 0],\n",
       "        [1, 1, 2]],\n",
       "\n",
       "       ...,\n",
       "\n",
       "       [[2, 1, 3],\n",
       "        [0, 1, 2],\n",
       "        [1, 4, 3],\n",
       "        ...,\n",
       "        [4, 2, 0],\n",
       "        [1, 4, 0],\n",
       "        [3, 1, 2]],\n",
       "\n",
       "       [[0, 0, 0],\n",
       "        [2, 4, 4],\n",
       "        [2, 1, 1],\n",
       "        ...,\n",
       "        [0, 4, 2],\n",
       "        [1, 3, 3],\n",
       "        [0, 4, 3]],\n",
       "\n",
       "       [[2, 4, 2],\n",
       "        [2, 0, 2],\n",
       "        [4, 3, 0],\n",
       "        ...,\n",
       "        [0, 0, 4],\n",
       "        [1, 3, 1],\n",
       "        [2, 4, 0]]])"
      ]
     },
     "execution_count": 9,
     "metadata": {},
     "output_type": "execute_result"
    }
   ],
   "source": [
    "image"
   ]
  },
  {
   "cell_type": "code",
   "execution_count": null,
   "metadata": {},
   "outputs": [],
   "source": []
  }
 ],
 "metadata": {
  "kernelspec": {
   "display_name": "Python 3",
   "language": "python",
   "name": "python3"
  },
  "language_info": {
   "codemirror_mode": {
    "name": "ipython",
    "version": 3
   },
   "file_extension": ".py",
   "mimetype": "text/x-python",
   "name": "python",
   "nbconvert_exporter": "python",
   "pygments_lexer": "ipython3",
   "version": "3.7.4"
  }
 },
 "nbformat": 4,
 "nbformat_minor": 2
}
