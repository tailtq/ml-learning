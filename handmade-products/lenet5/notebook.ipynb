{
 "cells": [
  {
   "cell_type": "code",
   "execution_count": 1,
   "metadata": {},
   "outputs": [],
   "source": [
    "import numpy as np\n",
    "import pandas as pd\n",
    "import matplotlib.pyplot as plt\n",
    "import seaborn as sns\n",
    "\n",
    "from operator import methodcaller\n",
    "from sklearn.model_selection import train_test_split\n",
    "from sklearn.preprocessing import OneHotEncoder"
   ]
  },
  {
   "cell_type": "code",
   "execution_count": 2,
   "metadata": {},
   "outputs": [],
   "source": [
    "df_train = pd.read_csv('dataset/train.csv', dtype=str)\n",
    "df_test = pd.read_csv('dataset/test.csv', dtype=str)"
   ]
  },
  {
   "cell_type": "code",
   "execution_count": 3,
   "metadata": {},
   "outputs": [],
   "source": [
    "def process_images(dataset):\n",
    "    dataset = dataset.apply(' '.join, axis=1)\n",
    "    dataset = list(map(methodcaller('split', ' '), dataset))    \n",
    "    dataset = np.array(np.reshape(dataset, (-1, 28, 28, 1)), dtype=int) / 255.0\n",
    "    images = []\n",
    "    for image in dataset:\n",
    "        zeros = np.zeros((32, 32, 1))\n",
    "        zeros[2:30,2:30,:] = image\n",
    "        images.append(zeros)\n",
    "    \n",
    "    return np.array(images)"
   ]
  },
  {
   "cell_type": "code",
   "execution_count": 4,
   "metadata": {},
   "outputs": [],
   "source": [
    "X = process_images(df_train[df_train.columns.values[1:]])\n",
    "y = df_train['label']\n",
    "\n",
    "X_test = process_images(df_test)"
   ]
  },
  {
   "cell_type": "code",
   "execution_count": 5,
   "metadata": {},
   "outputs": [
    {
     "data": {
      "image/png": "[encoded data removed]",
      "text/plain": [
       "<Figure size 432x432 with 9 Axes>"
      ]
     },
     "metadata": {
      "needs_background": "light"
     },
     "output_type": "display_data"
    }
   ],
   "source": [
    "fig, ax = plt.subplots(3, 3, figsize=(6, 6))\n",
    "e = 0\n",
    "\n",
    "for i in range(3):\n",
    "    for j in range(3):\n",
    "        ax[i][j].imshow(X[e].reshape(32, 32), cmap='gray')\n",
    "        e += 1"
   ]
  },
  {
   "cell_type": "code",
   "execution_count": 6,
   "metadata": {},
   "outputs": [
    {
     "data": {
      "image/png": "[encoded data removed]",
      "text/plain": [
       "<Figure size 432x288 with 1 Axes>"
      ]
     },
     "metadata": {
      "needs_background": "light"
     },
     "output_type": "display_data"
    }
   ],
   "source": [
    "sns.countplot(x='label', data=df_train)\n",
    "plt.title('Distribution of Digits', fontsize=14)\n",
    "plt.xlabel('Digits', fontsize=12)\n",
    "plt.ylabel('Count', fontsize=14)\n",
    "plt.show()"
   ]
  },
  {
   "cell_type": "code",
   "execution_count": 7,
   "metadata": {},
   "outputs": [],
   "source": [
    "y = y.values.reshape(-1, 1)"
   ]
  },
  {
   "cell_type": "code",
   "execution_count": 8,
   "metadata": {},
   "outputs": [],
   "source": [
    "encoder = OneHotEncoder(sparse=False)\n",
    "y = encoder.fit_transform(y)"
   ]
  },
  {
   "cell_type": "code",
   "execution_count": 9,
   "metadata": {},
   "outputs": [],
   "source": [
    "X_train, X_val, y_train, y_val = train_test_split(X, y, test_size=0.1, random_state=3)"
   ]
  },
  {
   "cell_type": "code",
   "execution_count": 10,
   "metadata": {},
   "outputs": [],
   "source": [
    "from tensorflow.keras.models import Sequential\n",
    "from tensorflow.keras.layers import Dense, Conv2D, AvgPool2D, Flatten\n",
    "from tensorflow.keras.callbacks import ReduceLROnPlateau\n",
    "from tensorflow.keras.optimizers import Adam"
   ]
  },
  {
   "cell_type": "code",
   "execution_count": 11,
   "metadata": {},
   "outputs": [
    {
     "name": "stdout",
     "output_type": "stream",
     "text": [
      "Model: \"sequential\"\n",
      "_________________________________________________________________\n",
      "Layer (type)                 Output Shape              Param #   \n",
      "=================================================================\n",
      "conv2d (Conv2D)              (None, 28, 28, 6)         156       \n",
      "_________________________________________________________________\n",
      "average_pooling2d (AveragePo (None, 14, 14, 6)         0         \n",
      "_________________________________________________________________\n",
      "conv2d_1 (Conv2D)            (None, 10, 10, 16)        2416      \n",
      "_________________________________________________________________\n",
      "average_pooling2d_1 (Average (None, 5, 5, 16)          0         \n",
      "_________________________________________________________________\n",
      "flatten (Flatten)            (None, 400)               0         \n",
      "_________________________________________________________________\n",
      "dense (Dense)                (None, 120)               48120     \n",
      "_________________________________________________________________\n",
      "dense_1 (Dense)              (None, 84)                10164     \n",
      "_________________________________________________________________\n",
      "dense_2 (Dense)              (None, 10)                850       \n",
      "=================================================================\n",
      "Total params: 61,706\n",
      "Trainable params: 61,706\n",
      "Non-trainable params: 0\n",
      "_________________________________________________________________\n"
     ]
    }
   ],
   "source": [
    "model = Sequential([\n",
    "    Conv2D(filters=6, kernel_size=(5, 5), activation='relu', input_shape=(32,32,1)),\n",
    "    AvgPool2D(),\n",
    "    \n",
    "    Conv2D(filters=16, kernel_size=(5, 5), activation='relu'),\n",
    "    AvgPool2D(),\n",
    "    \n",
    "    Flatten(),\n",
    "    Dense(units=120, activation='relu'),\n",
    "    Dense(units=84, activation='relu'),\n",
    "    Dense(units=10, activation = 'softmax'),\n",
    "])\n",
    "model.build()\n",
    "model.summary()"
   ]
  },
  {
   "cell_type": "code",
   "execution_count": 12,
   "metadata": {},
   "outputs": [],
   "source": [
    "adam = Adam(lr=5e-4)\n",
    "model.compile(loss='categorical_crossentropy', metrics=['accuracy'], optimizer=adam)"
   ]
  },
  {
   "cell_type": "code",
   "execution_count": 13,
   "metadata": {},
   "outputs": [],
   "source": [
    "reduce_lr = ReduceLROnPlateau(monitor='val_accuracy', \n",
    "                              patience=3, \n",
    "                              verbose=1, \n",
    "                              factor=0.2, \n",
    "                              min_lr=1e-6)"
   ]
  },
  {
   "cell_type": "code",
   "execution_count": 14,
   "metadata": {},
   "outputs": [
    {
     "name": "stdout",
     "output_type": "stream",
     "text": [
      "Train on 37800 samples, validate on 4200 samples\n",
      "Epoch 1/40\n",
      "37760/37800 [============================>.] - ETA: 0s - loss: 0.4733 - accuracy: 0.8616 - val_loss: 0.2117 - val_accuracy: 0.9401Epoch 2/40\n",
      "37736/37800 [============================>.] - ETA: 0s - loss: 0.1646 - accuracy: 0.9506 - val_loss: 0.1421 - val_accuracy: 0.9519Epoch 3/40\n",
      "37736/37800 [============================>.] - ETA: 0s - loss: 0.1139 - accuracy: 0.9648 - val_loss: 0.0947 - val_accuracy: 0.9690Epoch 4/40\n",
      "37736/37800 [============================>.] - ETA: 0s - loss: 0.0872 - accuracy: 0.9736 - val_loss: 0.0895 - val_accuracy: 0.9704Epoch 5/40\n",
      "37736/37800 [============================>.] - ETA: 0s - loss: 0.0749 - accuracy: 0.9770 - val_loss: 0.0790 - val_accuracy: 0.9764Epoch 6/40\n",
      "37736/37800 [============================>.] - ETA: 0s - loss: 0.0619 - accuracy: 0.9811 - val_loss: 0.0795 - val_accuracy: 0.9767Epoch 7/40\n",
      "37736/37800 [============================>.] - ETA: 0s - loss: 0.0545 - accuracy: 0.9830 - val_loss: 0.0879 - val_accuracy: 0.9692Epoch 8/40\n",
      "37736/37800 [============================>.] - ETA: 0s - loss: 0.0505 - accuracy: 0.9847 - val_loss: 0.0616 - val_accuracy: 0.9815Epoch 9/40\n",
      "37736/37800 [============================>.] - ETA: 0s - loss: 0.0421 - accuracy: 0.9872 - val_loss: 0.0642 - val_accuracy: 0.9779Epoch 10/40\n",
      "37736/37800 [============================>.] - ETA: 0s - loss: 0.0372 - accuracy: 0.9879 - val_loss: 0.0672 - val_accuracy: 0.9793Epoch 11/40\n",
      "36968/37800 [============================>.] - ETA: 0s - loss: 0.0333 - accuracy: 0.9895\n",
      "Epoch 00011: ReduceLROnPlateau reducing learning rate to 0.00010000000474974513.\n",
      "37736/37800 [============================>.] - ETA: 0s - loss: 0.0332 - accuracy: 0.9896 - val_loss: 0.0716 - val_accuracy: 0.9764Epoch 12/40\n",
      "37736/37800 [============================>.] - ETA: 0s - loss: 0.0204 - accuracy: 0.9942 - val_loss: 0.0489 - val_accuracy: 0.9834Epoch 13/40\n",
      "37736/37800 [============================>.] - ETA: 0s - loss: 0.0177 - accuracy: 0.9952 - val_loss: 0.0496 - val_accuracy: 0.9841Epoch 14/40\n",
      "37736/37800 [============================>.] - ETA: 0s - loss: 0.0164 - accuracy: 0.9953 - val_loss: 0.0536 - val_accuracy: 0.9825Epoch 15/40\n",
      "37736/37800 [============================>.] - ETA: 0s - loss: 0.0160 - accuracy: 0.9957 - val_loss: 0.0543 - val_accuracy: 0.9822Epoch 16/40\n",
      "37416/37800 [============================>.] - ETA: 0s - loss: 0.0152 - accuracy: 0.9959\n",
      "Epoch 00016: ReduceLROnPlateau reducing learning rate to 2.0000000949949027e-05.\n",
      "37736/37800 [============================>.] - ETA: 0s - loss: 0.0152 - accuracy: 0.9959 - val_loss: 0.0531 - val_accuracy: 0.9832Epoch 17/40\n",
      "37736/37800 [============================>.] - ETA: 0s - loss: 0.0119 - accuracy: 0.9971 - val_loss: 0.0505 - val_accuracy: 0.9834Epoch 18/40\n",
      "37736/37800 [============================>.] - ETA: 0s - loss: 0.0116 - accuracy: 0.9973 - val_loss: 0.0513 - val_accuracy: 0.9829Epoch 19/40\n",
      "37416/37800 [============================>.] - ETA: 0s - loss: 0.0113 - accuracy: 0.9974\n",
      "Epoch 00019: ReduceLROnPlateau reducing learning rate to 4.000000262749381e-06.\n",
      "37736/37800 [============================>.] - ETA: 0s - loss: 0.0112 - accuracy: 0.9974 - val_loss: 0.0514 - val_accuracy: 0.9829Epoch 20/40\n",
      "37736/37800 [============================>.] - ETA: 0s - loss: 0.0109 - accuracy: 0.9975 - val_loss: 0.0509 - val_accuracy: 0.9837Epoch 21/40\n",
      "37736/37800 [============================>.] - ETA: 0s - loss: 0.0105 - accuracy: 0.9976 - val_loss: 0.0507 - val_accuracy: 0.9839Epoch 22/40\n",
      "37736/37800 [============================>.] - ETA: 0s - loss: 0.0106 - accuracy: 0.9977 - val_loss: 0.0507 - val_accuracy: 0.9844Epoch 23/40\n",
      "37736/37800 [============================>.] - ETA: 0s - loss: 0.0106 - accuracy: 0.9976 - val_loss: 0.0507 - val_accuracy: 0.9844Epoch 24/40\n",
      "37736/37800 [============================>.] - ETA: 0s - loss: 0.0106 - accuracy: 0.9977 - val_loss: 0.0509 - val_accuracy: 0.9844Epoch 25/40\n",
      "37672/37800 [============================>.] - ETA: 0s - loss: 0.0103 - accuracy: 0.9978\n",
      "Epoch 00025: ReduceLROnPlateau reducing learning rate to 1e-06.\n",
      "37736/37800 [============================>.] - ETA: 0s - loss: 0.0103 - accuracy: 0.9979 - val_loss: 0.0509 - val_accuracy: 0.9844Epoch 26/40\n",
      "37736/37800 [============================>.] - ETA: 0s - loss: 0.0104 - accuracy: 0.9976 - val_loss: 0.0509 - val_accuracy: 0.9844Epoch 27/40\n",
      "37736/37800 [============================>.] - ETA: 0s - loss: 0.0103 - accuracy: 0.9977 - val_loss: 0.0510 - val_accuracy: 0.9841Epoch 28/40\n",
      "37736/37800 [============================>.] - ETA: 0s - loss: 0.0103 - accuracy: 0.9977 - val_loss: 0.0509 - val_accuracy: 0.9841Epoch 29/40\n",
      "37736/37800 [============================>.] - ETA: 0s - loss: 0.0103 - accuracy: 0.9977 - val_loss: 0.0510 - val_accuracy: 0.9841Epoch 30/40\n",
      "37736/37800 [============================>.] - ETA: 0s - loss: 0.0102 - accuracy: 0.9978 - val_loss: 0.0510 - val_accuracy: 0.9841Epoch 31/40\n",
      "37736/37800 [============================>.] - ETA: 0s - loss: 0.0104 - accuracy: 0.9978 - val_loss: 0.0510 - val_accuracy: 0.9841Epoch 32/40\n",
      "37736/37800 [============================>.] - ETA: 0s - loss: 0.0101 - accuracy: 0.9978 - val_loss: 0.0510 - val_accuracy: 0.9844Epoch 33/40\n",
      "37736/37800 [============================>.] - ETA: 0s - loss: 0.0101 - accuracy: 0.9979 - val_loss: 0.0510 - val_accuracy: 0.9841Epoch 34/40\n",
      "37736/37800 [============================>.] - ETA: 0s - loss: 0.0105 - accuracy: 0.9976 - val_loss: 0.0510 - val_accuracy: 0.9841Epoch 35/40\n",
      "37736/37800 [============================>.] - ETA: 0s - loss: 0.0101 - accuracy: 0.9979 - val_loss: 0.0510 - val_accuracy: 0.9839Epoch 36/40\n",
      "37736/37800 [============================>.] - ETA: 0s - loss: 0.0102 - accuracy: 0.9978 - val_loss: 0.0511 - val_accuracy: 0.9844Epoch 37/40\n",
      "37736/37800 [============================>.] - ETA: 0s - loss: 0.0102 - accuracy: 0.9978 - val_loss: 0.0511 - val_accuracy: 0.9841Epoch 38/40\n",
      "37736/37800 [============================>.] - ETA: 0s - loss: 0.0102 - accuracy: 0.9977 - val_loss: 0.0511 - val_accuracy: 0.9844Epoch 39/40\n",
      "37736/37800 [============================>.] - ETA: 0s - loss: 0.0100 - accuracy: 0.9978 - val_loss: 0.0511 - val_accuracy: 0.9844Epoch 40/40\n",
      "37736/37800 [============================>.] - ETA: 0s - loss: 0.0101 - accuracy: 0.9979 - val_loss: 0.0511 - val_accuracy: 0.9839"
     ]
    }
   ],
   "source": [
    "BATCH_SIZE = 64\n",
    "EPOCHS = 40\n",
    "\n",
    "steps_per_epoch = X_train.shape[0]//BATCH_SIZE\n",
    "validation_steps = X_val.shape[0]//BATCH_SIZE\n",
    "\n",
    "history = model.fit(X_train,\n",
    "                   y_train,\n",
    "                   batch_size=64,\n",
    "                   epochs=EPOCHS,\n",
    "                   steps_per_epoch=steps_per_epoch,\n",
    "                   validation_steps=validation_steps,\n",
    "                   validation_data=(X_val, y_val),\n",
    "                   callbacks=[reduce_lr])"
   ]
  },
  {
   "cell_type": "code",
   "execution_count": 15,
   "metadata": {},
   "outputs": [
    {
     "name": "stdout",
     "output_type": "stream",
     "text": [
      "(37800, 32, 32, 1) 590\n"
     ]
    }
   ],
   "source": [
    "print(X_train.shape, steps_per_epoch)"
   ]
  },
  {
   "cell_type": "code",
   "execution_count": 16,
   "metadata": {},
   "outputs": [],
   "source": [
    "model.save('model.h5')"
   ]
  },
  {
   "cell_type": "code",
   "execution_count": 17,
   "metadata": {},
   "outputs": [],
   "source": [
    "prediction = model.predict(X_test)"
   ]
  },
  {
   "cell_type": "code",
   "execution_count": 18,
   "metadata": {},
   "outputs": [],
   "source": [
    "submission = pd.read_csv('dataset/sample_submission.csv')"
   ]
  },
  {
   "cell_type": "code",
   "execution_count": 19,
   "metadata": {},
   "outputs": [],
   "source": [
    "submission['Label'] = encoder.inverse_transform(prediction)"
   ]
  },
  {
   "cell_type": "code",
   "execution_count": 20,
   "metadata": {},
   "outputs": [],
   "source": [
    "submission.to_csv('result.csv', index=False)"
   ]
  },
  {
   "cell_type": "code",
   "execution_count": 21,
   "metadata": {},
   "outputs": [
    {
     "data": {
      "image/png": "[encoded data removed]",
      "text/plain": [
       "<Figure size 432x288 with 1 Axes>"
      ]
     },
     "metadata": {
      "needs_background": "light"
     },
     "output_type": "display_data"
    }
   ],
   "source": [
    "plt.plot(history.history['accuracy'])\n",
    "plt.plot(history.history['val_accuracy'])\n",
    "plt.title('Accuracy and Val accurary')\n",
    "plt.show()"
   ]
  },
  {
   "cell_type": "code",
   "execution_count": 22,
   "metadata": {},
   "outputs": [
    {
     "data": {
      "image/png": "[encoded data removed]",
      "text/plain": [
       "<Figure size 432x288 with 1 Axes>"
      ]
     },
     "metadata": {
      "needs_background": "light"
     },
     "output_type": "display_data"
    }
   ],
   "source": [
    "plt.plot(history.history['loss'])\n",
    "plt.plot(history.history['val_loss'])\n",
    "plt.title('Loss and Val loss')\n",
    "plt.show()"
   ]
  },
  {
   "cell_type": "code",
   "execution_count": null,
   "metadata": {},
   "outputs": [],
   "source": []
  }
 ],
 "metadata": {
  "kernelspec": {
   "display_name": "Python 3",
   "language": "python",
   "name": "python3"
  },
  "language_info": {
   "codemirror_mode": {
    "name": "ipython",
    "version": 3
   },
   "file_extension": ".py",
   "mimetype": "text/x-python",
   "name": "python",
   "nbconvert_exporter": "python",
   "pygments_lexer": "ipython3",
   "version": "3.5.2"
  }
 },
 "nbformat": 4,
 "nbformat_minor": 4
}
