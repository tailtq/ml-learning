{
 "cells": [
  {
   "cell_type": "code",
   "execution_count": 1,
   "metadata": {},
   "outputs": [],
   "source": [
    "import numpy as np\n",
    "import matplotlib.pyplot as plt"
   ]
  },
  {
   "cell_type": "markdown",
   "metadata": {},
   "source": [
    "## Polynomial Regression"
   ]
  },
  {
   "cell_type": "code",
   "execution_count": 2,
   "metadata": {},
   "outputs": [],
   "source": [
    "# (x - 1)^2\n",
    "X_train = np.array([-2, -1, 0, 1, 2, 3, 4, 5, 6, 7, 8, 9, 10])\n",
    "y_train = np.array([9, 4, 1, 0, 1, 4, 9, 16, 25, 36, 49, 64, 81])"
   ]
  },
  {
   "cell_type": "code",
   "execution_count": 3,
   "metadata": {},
   "outputs": [
    {
     "data": {
      "text/plain": [
       "[<matplotlib.lines.Line2D at 0x1179e5390>]"
      ]
     },
     "execution_count": 3,
     "metadata": {},
     "output_type": "execute_result"
    },
    {
     "data": {
      "image/png": "[encoded data removed]",
      "text/plain": [
       "<Figure size 432x288 with 1 Axes>"
      ]
     },
     "metadata": {
      "needs_background": "light"
     },
     "output_type": "display_data"
    }
   ],
   "source": [
    "plt.plot(X_train, y_train)"
   ]
  },
  {
   "cell_type": "code",
   "execution_count": 4,
   "metadata": {},
   "outputs": [],
   "source": [
    "X_train = X_train.reshape(len(X_train), 1)\n",
    "y_train = y_train.reshape(len(y_train), 1)"
   ]
  },
  {
   "cell_type": "code",
   "execution_count": 5,
   "metadata": {},
   "outputs": [],
   "source": [
    "class PolynomialFeatures:\n",
    "    degree = 2\n",
    "    features = 0\n",
    "    \n",
    "    def fit_transform(self, data):\n",
    "        self.fit(data)\n",
    "        \n",
    "        return self.transform(data)\n",
    "    \n",
    "    def fit(self, data):\n",
    "        self.features = data.shape[1]\n",
    "    \n",
    "    def transform(self, data):\n",
    "        if self.features == 0:\n",
    "            raise Exception('Features is not available')\n",
    "\n",
    "        data_len = len(data)\n",
    "        output = one_arr = np.ones((data_len), np.float)\n",
    "        \n",
    "        for i in range(self.features):\n",
    "            output = np.concatenate((output, one_arr*(data[:,i])))\n",
    "        \n",
    "        for i in range(self.features):\n",
    "            output = np.concatenate((output, one_arr*(data[:,i]**2)))\n",
    "            \n",
    "        for i in range(self.features):\n",
    "            for j in range(i + 1, self.features):\n",
    "                output = np.concatenate((output, one_arr*(data[:,i]*data[:,j])))\n",
    "        \n",
    "        new_features = np.int((self.features**2 + 3*self.features)/2) + 1\n",
    "        \n",
    "        return output.reshape((new_features, data_len)).T\n"
   ]
  },
  {
   "cell_type": "code",
   "execution_count": 6,
   "metadata": {},
   "outputs": [],
   "source": [
    "poly = PolynomialFeatures()\n",
    "X_train = poly.fit_transform(X_train)"
   ]
  },
  {
   "cell_type": "code",
   "execution_count": 7,
   "metadata": {},
   "outputs": [],
   "source": [
    "from linear_regression import LinearRegression"
   ]
  },
  {
   "cell_type": "code",
   "execution_count": 8,
   "metadata": {},
   "outputs": [
    {
     "name": "stdout",
     "output_type": "stream",
     "text": [
      "Epoch 99 cost: 4.166633605861406\n",
      "Epoch 199 cost: 3.7571312883177472\n",
      "Epoch 299 cost: 3.391514019682292\n",
      "Epoch 399 cost: 3.0649208665235936\n",
      "Epoch 499 cost: 2.773035602490488\n",
      "Epoch 599 cost: 2.512025427430742\n",
      "Epoch 699 cost: 2.278486589971487\n",
      "Epoch 799 cost: 2.0693961355180095\n",
      "Epoch 899 cost: 1.8820690893288028\n",
      "Epoch 999 cost: 1.7141204621398385\n",
      "Epoch 1099 cost: 1.5634315348544765\n",
      "Epoch 1199 cost: 1.4281199400757005\n",
      "Epoch 1299 cost: 1.3065131126123137\n",
      "Epoch 1399 cost: 1.197124729318208\n",
      "Epoch 1499 cost: 1.0986338014151908\n",
      "Epoch 1599 cost: 1.0098661204173782\n",
      "Epoch 1699 cost: 0.929777792462895\n",
      "Epoch 1799 cost: 0.8574406257490191\n",
      "Epoch 1899 cost: 0.7920291622879175\n",
      "Epoch 1999 cost: 0.7328091687315632\n"
     ]
    }
   ],
   "source": [
    "model = LinearRegression()\n",
    "model.fit(X_train, y_train, 2000, 0.00023)"
   ]
  },
  {
   "cell_type": "code",
   "execution_count": 9,
   "metadata": {},
   "outputs": [
    {
     "data": {
      "text/plain": [
       "array([[98.03961665]])"
      ]
     },
     "execution_count": 9,
     "metadata": {},
     "output_type": "execute_result"
    }
   ],
   "source": [
    "model.predict(poly.transform(np.array([[11]])))"
   ]
  },
  {
   "cell_type": "code",
   "execution_count": null,
   "metadata": {},
   "outputs": [],
   "source": []
  },
  {
   "cell_type": "code",
   "execution_count": null,
   "metadata": {},
   "outputs": [],
   "source": []
  },
  {
   "cell_type": "markdown",
   "metadata": {},
   "source": [
    "## Polynomial Logistic Regression"
   ]
  },
  {
   "cell_type": "code",
   "execution_count": 10,
   "metadata": {},
   "outputs": [],
   "source": [
    "X_train2 = np.array([\n",
    "    [1, 1],\n",
    "    [0, 0],\n",
    "    [1, 2],\n",
    "    [0.5, 0.86],\n",
    "    [-1, 1],\n",
    "    [0.5, 1],\n",
    "    [0, -0.5],\n",
    "    [0.5, 0],\n",
    "    [-1, -1],\n",
    "    [0.5, 0.5],\n",
    "])\n",
    "y_train2 = np.array([0, 1, 0, 1, 0, 0, 1, 1, 0, 1])\n",
    "y_train2 = y_train2.reshape((len(y_train2), 1))"
   ]
  },
  {
   "cell_type": "code",
   "execution_count": 11,
   "metadata": {},
   "outputs": [],
   "source": [
    "poly2 = PolynomialFeatures()\n",
    "X_train2 = poly2.fit_transform(X_train2)"
   ]
  },
  {
   "cell_type": "code",
   "execution_count": 12,
   "metadata": {},
   "outputs": [],
   "source": [
    "from logistic_regression import LogisticRegression"
   ]
  },
  {
   "cell_type": "code",
   "execution_count": 13,
   "metadata": {},
   "outputs": [
    {
     "name": "stdout",
     "output_type": "stream",
     "text": [
      "Epoch 1 cost: 0.125\n",
      "Epoch 100 cost: 0.0032257719584505066\n"
     ]
    }
   ],
   "source": [
    "model2 = LogisticRegression()\n",
    "model2.fit(X_train2, y_train2, 100, 10)"
   ]
  },
  {
   "cell_type": "code",
   "execution_count": 14,
   "metadata": {},
   "outputs": [
    {
     "data": {
      "text/plain": [
       "array([[0.99988154]])"
      ]
     },
     "execution_count": 14,
     "metadata": {},
     "output_type": "execute_result"
    }
   ],
   "source": [
    "model2.predict(poly2.transform(np.array([[0.4, 0.4]])))"
   ]
  },
  {
   "cell_type": "code",
   "execution_count": null,
   "metadata": {},
   "outputs": [],
   "source": []
  }
 ],
 "metadata": {
  "kernelspec": {
   "display_name": "Python 3",
   "language": "python",
   "name": "python3"
  },
  "language_info": {
   "codemirror_mode": {
    "name": "ipython",
    "version": 3
   },
   "file_extension": ".py",
   "mimetype": "text/x-python",
   "name": "python",
   "nbconvert_exporter": "python",
   "pygments_lexer": "ipython3",
   "version": "3.6.6"
  }
 },
 "nbformat": 4,
 "nbformat_minor": 4
}
