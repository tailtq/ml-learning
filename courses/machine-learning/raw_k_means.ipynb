{
 "cells": [
  {
   "cell_type": "code",
   "execution_count": 1,
   "metadata": {},
   "outputs": [],
   "source": [
    "import numpy as np\n",
    "import matplotlib.pyplot as plt\n",
    "import seaborn as sns\n",
    "import pandas as pd\n",
    "\n",
    "import warnings\n",
    "\n",
    "warnings.filterwarnings('ignore')"
   ]
  },
  {
   "cell_type": "code",
   "execution_count": 2,
   "metadata": {},
   "outputs": [],
   "source": [
    "data = pd.read_csv('datasets/old_faithful.csv')"
   ]
  },
  {
   "cell_type": "code",
   "execution_count": 3,
   "metadata": {},
   "outputs": [
    {
     "data": {
      "image/png": "[encoded data removed]",
      "text/plain": [
       "<Figure size 432x288 with 1 Axes>"
      ]
     },
     "metadata": {
      "needs_background": "light"
     },
     "output_type": "display_data"
    }
   ],
   "source": [
    "plt.plot(data.iloc[:, 0], data.iloc[:, 1], 'bo')\n",
    "\n",
    "plt.title('Old Faithful')\n",
    "plt.xlabel('Eruptions')\n",
    "plt.ylabel('Waiting')\n",
    "\n",
    "plt.show()"
   ]
  },
  {
   "cell_type": "markdown",
   "metadata": {},
   "source": [
    "## K-Means Clustering"
   ]
  },
  {
   "cell_type": "code",
   "execution_count": 4,
   "metadata": {},
   "outputs": [],
   "source": [
    "class KMeansClustering:\n",
    "    def __init__(self):\n",
    "        pass\n",
    "    \n",
    "    def fit(self, k, data, iter_time):\n",
    "        data['cluster'] = 0\n",
    "        self.centroids = self.init_centroids(k, data)\n",
    "        \n",
    "        for i in range(iter_time):\n",
    "            distances = self.compute_distance(self.centroids, data)\n",
    "            data['cluster'] = self.assign_cluster(distances)\n",
    "            \n",
    "#             if (i + 1) % 100 == 0 or i == 0:\n",
    "#                 print('Iteration ' + str(i + 1) + ' cost: ' + str(self.compute_cost(distances)))\n",
    "\n",
    "            self.centroids = self.relocate_centroids(k, self.centroids, data)\n",
    "        \n",
    "        return data\n",
    "    \n",
    "    def init_centroids(self, k, data):\n",
    "        return data.sample(k)\n",
    "    \n",
    "    def compute_distance(self, centroids, data):\n",
    "        features = centroids.columns.drop('cluster').values\n",
    "        distances = {}\n",
    "        \n",
    "        for index in range(len(centroids)):\n",
    "            centroid = centroids.iloc[index]\n",
    "            key = 'centroid' + str(index + 1)\n",
    "            distances[key] = (centroid - data.iloc[:]).pow(2).sum(axis=1).pow(0.5)\n",
    "            \n",
    "        return distances\n",
    "    \n",
    "    def assign_cluster(self, distances):\n",
    "        return [np.int(key[-1]) for key in pd.DataFrame(distances).idxmin(axis=1).values]\n",
    "    \n",
    "    def compute_cost(self, distances):\n",
    "        return pd.DataFrame(distances).min(axis=1).sum() / len(list(distances.keys())[0])\n",
    "    \n",
    "    def relocate_centroids(self, k, centroids, data):\n",
    "        for i in range(k):\n",
    "            clustered_data = data.loc[lambda x: x['cluster'] == i]\n",
    "            centroids[i] = clustered_data.mean(axis=1)\n",
    "        \n",
    "        return centroids"
   ]
  },
  {
   "cell_type": "code",
   "execution_count": 12,
   "metadata": {},
   "outputs": [],
   "source": [
    "k = 2\n",
    "model = KMeansClustering()\n",
    "clustered_data = model.fit(k, data, 100)"
   ]
  },
  {
   "cell_type": "code",
   "execution_count": 13,
   "metadata": {},
   "outputs": [
    {
     "data": {
      "image/png": "[encoded data removed]",
      "text/plain": [
       "<Figure size 432x288 with 1 Axes>"
      ]
     },
     "metadata": {
      "needs_background": "light"
     },
     "output_type": "display_data"
    }
   ],
   "source": [
    "colors = ['red', 'blue']\n",
    "\n",
    "for i in range(1, k + 1):\n",
    "    clustered_elements = clustered_data.loc[lambda x: x['cluster'] == i]\n",
    "    plt.plot(clustered_elements.iloc[:, 0], clustered_elements.iloc[:, 1], 'bo', color=colors[i - 1])\n",
    "    \n",
    "plt.title('Old Faithful')\n",
    "plt.xlabel('Eruptions')\n",
    "plt.ylabel('Waiting')\n",
    "\n",
    "plt.show()"
   ]
  },
  {
   "cell_type": "code",
   "execution_count": 7,
   "metadata": {},
   "outputs": [
    {
     "name": "stdout",
     "output_type": "stream",
     "text": [
      "    eruptions  waiting  cluster   0          1\n",
      "61      4.500       84        0 NaN  29.833333\n",
      "96      4.667       84        0 NaN        NaN\n"
     ]
    }
   ],
   "source": [
    "print(model.centroids)"
   ]
  },
  {
   "cell_type": "code",
   "execution_count": null,
   "metadata": {},
   "outputs": [],
   "source": []
  }
 ],
 "metadata": {
  "kernelspec": {
   "display_name": "Python 3",
   "language": "python",
   "name": "python3"
  },
  "language_info": {
   "codemirror_mode": {
    "name": "ipython",
    "version": 3
   },
   "file_extension": ".py",
   "mimetype": "text/x-python",
   "name": "python",
   "nbconvert_exporter": "python",
   "pygments_lexer": "ipython3",
   "version": "3.5.2"
  }
 },
 "nbformat": 4,
 "nbformat_minor": 4
}
