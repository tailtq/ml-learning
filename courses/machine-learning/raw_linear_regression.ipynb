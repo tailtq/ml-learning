{
 "cells": [
  {
   "cell_type": "code",
   "execution_count": 1,
   "metadata": {},
   "outputs": [],
   "source": [
    "import numpy as np"
   ]
  },
  {
   "cell_type": "markdown",
   "metadata": {},
   "source": [
    "## Linear Regression"
   ]
  },
  {
   "cell_type": "code",
   "execution_count": 2,
   "metadata": {},
   "outputs": [],
   "source": [
    "from linear_regression import LinearRegression"
   ]
  },
  {
   "cell_type": "code",
   "execution_count": 3,
   "metadata": {},
   "outputs": [
    {
     "name": "stdout",
     "output_type": "stream",
     "text": [
      "Epoch 99 cost: 0.10021736403787723\n",
      "Epoch 199 cost: 0.03988365332078278\n",
      "Epoch 299 cost: 0.0158725567917659\n",
      "Epoch 399 cost: 0.006316825018047593\n",
      "Epoch 499 cost: 0.0025139162412279553\n",
      "Epoch 599 cost: 0.0010004669829944324\n",
      "Epoch 699 cost: 0.000398157332231928\n",
      "Epoch 799 cost: 0.00015845526529575528\n",
      "Epoch 899 cost: 6.306067744426401e-05\n",
      "Epoch 999 cost: 2.5096351530559075e-05\n",
      "[[19.99748221]] [[1.01783998]]\n"
     ]
    }
   ],
   "source": [
    "model = LinearRegression()\n",
    "model.fit(\n",
    "    np.array([[2], [3], [4], [5], [6], [7], [8], [9], [10]]),\n",
    "    np.array([[41], [61], [81], [101], [121], [141], [161], [181], [201]]),\n",
    "    1000,\n",
    "    0.03\n",
    ")\n",
    "print(model.W, model.b)"
   ]
  },
  {
   "cell_type": "code",
   "execution_count": 4,
   "metadata": {},
   "outputs": [
    {
     "name": "stdout",
     "output_type": "stream",
     "text": [
      "(9, 1)\n"
     ]
    }
   ],
   "source": [
    "print(np.array([[2], [3], [4], [5], [6], [7], [8], [9], [10]]).shape)"
   ]
  },
  {
   "cell_type": "code",
   "execution_count": null,
   "metadata": {},
   "outputs": [],
   "source": []
  }
 ],
 "metadata": {
  "kernelspec": {
   "display_name": "Python 3",
   "language": "python",
   "name": "python3"
  },
  "language_info": {
   "codemirror_mode": {
    "name": "ipython",
    "version": 3
   },
   "file_extension": ".py",
   "mimetype": "text/x-python",
   "name": "python",
   "nbconvert_exporter": "python",
   "pygments_lexer": "ipython3",
   "version": "3.5.2"
  }
 },
 "nbformat": 4,
 "nbformat_minor": 4
}
