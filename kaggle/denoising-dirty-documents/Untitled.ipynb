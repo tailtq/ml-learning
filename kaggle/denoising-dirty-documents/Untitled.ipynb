{
 "cells": [
  {
   "cell_type": "code",
   "execution_count": 13,
   "metadata": {},
   "outputs": [],
   "source": [
    "import matplotlib.pyplot as plt\n",
    "import cv2"
   ]
  },
  {
   "cell_type": "code",
   "execution_count": 30,
   "metadata": {},
   "outputs": [],
   "source": [
    "\"\"\"\n",
    "Simple background removal code\n",
    "\n",
    "__author__ : Rangel Dokov\n",
    "\n",
    "The basic idea is that we have a foreground object of interest (the dark text)\n",
    "and we want to remove everything that is not part of this foreground object.\n",
    "\n",
    "This should produce results somewhere around 0.06 on the leaderboard.\n",
    "\"\"\"\n",
    "import numpy as np\n",
    "from scipy import signal\n",
    "from PIL import Image\n",
    "\n",
    "\n",
    "def load_image(path):\n",
    "    image = cv2.imread(path)\n",
    "    image = cv2.cvtColor(image, cv2.COLOR_BGR2GRAY)\n",
    "    return image/255.0\n",
    "\n",
    "def save(path, img):\n",
    "    tmp = np.asarray(img*255.0, dtype=np.uint8)\n",
    "    Image.fromarray(tmp).save(path)\n",
    "\n",
    "def denoise_image(inp):\n",
    "    # estimate 'background' color by a median filter\n",
    "    bg = signal.medfilt2d(inp, 11)\n",
    "    save('background.png', bg)\n",
    "\n",
    "    # compute 'foreground' mask as anything that is significantly darker than\n",
    "    # the background\n",
    "    mask = inp < bg - 0.1\n",
    "    save('foreground_mask.png', mask)\n",
    "\n",
    "    # return the input value for all pixels in the mask or pure white otherwise\n",
    "    return np.where(mask, inp, 1.0)\n",
    "\n",
    "\n",
    "inp_path = 'test5.png'\n",
    "out_path = 'output.png'\n",
    "\n",
    "inp = load_image(inp_path)\n",
    "out = denoise_image(inp)\n",
    "\n",
    "save(out_path, out)"
   ]
  },
  {
   "cell_type": "code",
   "execution_count": 31,
   "metadata": {},
   "outputs": [
    {
     "data": {
      "text/plain": [
       "<matplotlib.image.AxesImage at 0x130e963c8>"
      ]
     },
     "execution_count": 31,
     "metadata": {},
     "output_type": "execute_result"
    },
    {
     "data": {
      "image/png": "[encoded data removed]",
      "text/plain": [
       "<Figure size 432x288 with 1 Axes>"
      ]
     },
     "metadata": {
      "needs_background": "light"
     },
     "output_type": "display_data"
    }
   ],
   "source": [
    "plt.imshow(out, cmap='gray')"
   ]
  },
  {
   "cell_type": "code",
   "execution_count": 32,
   "metadata": {},
   "outputs": [],
   "source": [
    "import pytesseract"
   ]
  },
  {
   "cell_type": "code",
   "execution_count": 33,
   "metadata": {},
   "outputs": [
    {
     "name": "stdout",
     "output_type": "stream",
     "text": [
      "Most, if not all, of the moves of a go game remain on the board\n",
      "until the game ends, providing its players with continuously\n",
      "developing shapes and patterns of black and white stones; the\n",
      "beauty of a chess game’s moves is more ephemeral and kaleido-\n",
      "scopic as its patterns change with each move and capture. And,\n",
      "finally, go has a handicap system that allows players of quite\n",
      "different strengths to compete on an equal basis: the weaker player\n",
      "is given additional stones at the beginning of the game. Chess\n",
      "handicaps the stronger player by forcing him to remove one or\n",
      "more of his pieces at the beginning, which distorts the nature of\n",
      "the game.\n",
      "\n",
      "Which is the better game, the more interesting game, is, of\n",
      "course, impossible to say. It is both of interest and of significance,\n",
      "however, to note that many professional go players are also avid\n",
      "and usually strong shogi (Japanese chess) players. Conversely,\n",
      "many professional shogi players are usually strong go players. It\n",
      "is fair to say that if you like to practice and sharpen your tactical\n",
      "skills, if you like to play chess, chances are excellent that you will\n",
      "also like to play go.\n",
      "\n",
      "To some players go is a model for living. Its strategic concepts\n",
      "serve them as models for decision making in their everyday lives.\n",
      "Some of the more familiar maxims that are played out and illus-\n",
      "trated in nearly every game are: ‘Don’t put all your eggs in one\n",
      "basket,’ ‘Don’t burn your bridges behind you,’ ‘Look before you\n",
      "leap,’ ‘Don’t bang your head against a stone wall,’ and ‘Don’t\n",
      "throw good money after bad.’\n",
      "\n",
      "But however you choose to see go — as a model for living, as\n",
      "an alternative to chess and the other board games you enjoy, or as\n",
      "that elusive bit of variety that’s been missing from the spice in your\n",
      "life — it is bound to be a welcome addition to your social and\n",
      "intellectual repertoire.\n"
     ]
    }
   ],
   "source": [
    "print(pytesseract.image_to_string('output.png'))"
   ]
  },
  {
   "cell_type": "code",
   "execution_count": 34,
   "metadata": {},
   "outputs": [
    {
     "name": "stdout",
     "output_type": "stream",
     "text": [
      "Most, if not all, of the moves of a go game remain on the board\n",
      "until the game ends, providing its players with continuously\n",
      "developing shapes and patterns of black and white stones; the\n",
      "beauty of a chess game’s moves is more ephemeral and kaleido-\n",
      "scopic as its patterns change with each move and capture. And,\n",
      "finally, go has a handicap system that allows players of quite\n",
      "different strengths to compete on an equal basis: the weaker player\n",
      "is given additional stones at the beginning of the game. Chess\n",
      "handicaps the stronger player by forcing him to remove one or\n",
      "more of his pieces at the beginning, which distorts the nature of\n",
      "the game.\n",
      "\n",
      "Which is the better game, the more interesting game, is, of\n",
      "course, impossible to say. It is both of interest and of significance,\n",
      "however, to note that many professional go players are also avid\n",
      "and usually strong shogi (Japanese chess) players. Conversely,\n",
      "many professional shogi players are usually strong go players. It\n",
      "is fair to say that if you like to practice and sharpen your tactical\n",
      "skills, if you like to play chess, chances are excellent that you will\n",
      "also like to play go.\n",
      "\n",
      "To some players go is a model for living. Its strategic concepts\n",
      "serve them as models for decision making in their everyday lives.\n",
      "Some of the more familiar maxims that are played out and illus-\n",
      "trated in nearly every game are: ‘Don’t put all your eggs in one\n",
      "basket,’ ‘Don’t burn your bridges behind you,’ ‘Look before you\n",
      "leap,’ ‘Don’t bang your head against a stone wall,’ and ‘Don’t\n",
      "throw good money after bad.’\n",
      "\n",
      "But however you choose to see go — as a model for living, as\n",
      "an alternative to chess and the other board games you enjoy, or as\n",
      "that elusive bit of variety that’s been missing from the spice in your\n",
      "life — it is bound to be a welcome addition to your social and\n",
      "intellectual repertoire.\n"
     ]
    }
   ],
   "source": [
    "print(pytesseract.image_to_string('test5.png'))"
   ]
  },
  {
   "cell_type": "code",
   "execution_count": null,
   "metadata": {},
   "outputs": [],
   "source": []
  }
 ],
 "metadata": {
  "kernelspec": {
   "display_name": "Python 3",
   "language": "python",
   "name": "python3"
  },
  "language_info": {
   "codemirror_mode": {
    "name": "ipython",
    "version": 3
   },
   "file_extension": ".py",
   "mimetype": "text/x-python",
   "name": "python",
   "nbconvert_exporter": "python",
   "pygments_lexer": "ipython3",
   "version": "3.6.6"
  }
 },
 "nbformat": 4,
 "nbformat_minor": 2
}
