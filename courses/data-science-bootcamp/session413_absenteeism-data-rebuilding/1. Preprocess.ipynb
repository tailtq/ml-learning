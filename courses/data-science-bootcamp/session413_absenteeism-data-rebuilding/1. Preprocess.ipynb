{
 "cells": [
  {
   "cell_type": "markdown",
   "metadata": {},
   "source": [
    "# Absenteeism Data"
   ]
  },
  {
   "cell_type": "markdown",
   "metadata": {},
   "source": [
    "## Import libraries"
   ]
  },
  {
   "cell_type": "code",
   "execution_count": 1,
   "metadata": {},
   "outputs": [],
   "source": [
    "import numpy as np\n",
    "import tensorflow as ts"
   ]
  },
  {
   "cell_type": "markdown",
   "metadata": {},
   "source": [
    "## Preprocessing"
   ]
  },
  {
   "cell_type": "code",
   "execution_count": 18,
   "metadata": {},
   "outputs": [],
   "source": [
    "raw_data = np.loadtxt('Absenteeism-data.csv', delimiter=',', dtype=str, skiprows=1)\n",
    "raw_data = raw_data[:,1:]\n",
    "\n",
    "raw_dates = raw_data[:,1:2:1]\n",
    "\n",
    "raw_data_without_date = np.delete(raw_data, [1], axis=1)\n",
    "raw_data_with_default_reasons = np.insert(raw_data_without_date, [0], [0, 0, 0, 0], axis=1)\n",
    "raw_data_with_default_reasons = raw_data_with_default_reasons.astype(float)\n",
    "\n",
    "def map_date(date):\n",
    "    date = date.split('/')\n",
    "    return int(date[0]) % 7 + 1, int(date[1])\n",
    "\n",
    "raw_dates = np.array([map_date(xi[0]) for xi in raw_dates])\n",
    "raw_data_with_default_values = np.insert(raw_data_with_default_reasons, [0], raw_dates, axis=1)\n",
    "\n",
    "for i in range(0, len(raw_data_with_default_values)):\n",
    "    element = raw_data_with_default_values[i]\n",
    "    reason_for_absence = int(element[6])\n",
    "    \n",
    "    if reason_for_absence >= 1 and reason_for_absence <= 14:\n",
    "        raw_data_with_default_values[i][2] = 1\n",
    "    elif reason_for_absence in [15, 16, 17]:\n",
    "        raw_data_with_default_values[i][3] = 1\n",
    "    elif reason_for_absence in [18, 19, 20, 21]:\n",
    "        raw_data_with_default_values[i][4] = 1\n",
    "    elif reason_for_absence >= 22 and reason_for_absence <= 28:\n",
    "        raw_data_with_default_values[i][5] = 1\n",
    "    \n",
    "    if element[7] == 1:\n",
    "        raw_data_with_default_values[i][7] = 0\n",
    "    else:\n",
    "        raw_data_with_default_values[i][7] = 1\n",
    "\n",
    "processed_data = np.delete(raw_data_with_default_values, [6], axis=1)\n",
    "headers = [\n",
    "    'Day of week',\n",
    "    'Month',\n",
    "    'Reason_1',\n",
    "    'Reason_2',\n",
    "    'Reason_3',\n",
    "    'Reason_4',\n",
    "    'Transportation Expense',\n",
    "    'Distance to Work',\n",
    "    'Age',\n",
    "    'Daily Work Load Average',\n",
    "    'Body Mass Index',\n",
    "    'Education',\n",
    "    'Children',\n",
    "    'Pets',\n",
    "    'Absenteeism Time in Hours'\n",
    "]\n",
    "np.savetxt('Absenteeism_preprocessed.csv', processed_data, fmt='%.3s', delimiter=',', header=','.join(headers))\n",
    "    "
   ]
  },
  {
   "cell_type": "code",
   "execution_count": null,
   "metadata": {},
   "outputs": [],
   "source": []
  }
 ],
 "metadata": {
  "kernelspec": {
   "display_name": "Python 3",
   "language": "python",
   "name": "python3"
  },
  "language_info": {
   "codemirror_mode": {
    "name": "ipython",
    "version": 3
   },
   "file_extension": ".py",
   "mimetype": "text/x-python",
   "name": "python",
   "nbconvert_exporter": "python",
   "pygments_lexer": "ipython3",
   "version": "3.6.8"
  }
 },
 "nbformat": 4,
 "nbformat_minor": 2
}
