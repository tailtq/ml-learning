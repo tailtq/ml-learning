{
 "cells": [
  {
   "cell_type": "code",
   "execution_count": 1,
   "metadata": {},
   "outputs": [],
   "source": [
    "import numpy as np\n",
    "from numpy import genfromtxt"
   ]
  },
  {
   "cell_type": "code",
   "execution_count": 2,
   "metadata": {},
   "outputs": [],
   "source": [
    "data = genfromtxt('course/DATA/bank_note_data.txt', delimiter=',')"
   ]
  },
  {
   "cell_type": "code",
   "execution_count": 3,
   "metadata": {},
   "outputs": [
    {
     "data": {
      "text/plain": [
       "array([[  3.6216 ,   8.6661 ,  -2.8073 ,  -0.44699,   0.     ],\n",
       "       [  4.5459 ,   8.1674 ,  -2.4586 ,  -1.4621 ,   0.     ],\n",
       "       [  3.866  ,  -2.6383 ,   1.9242 ,   0.10645,   0.     ],\n",
       "       ...,\n",
       "       [ -3.7503 , -13.4586 ,  17.5932 ,  -2.7771 ,   1.     ],\n",
       "       [ -3.5637 ,  -8.3827 ,  12.393  ,  -1.2823 ,   1.     ],\n",
       "       [ -2.5419 ,  -0.65804,   2.6842 ,   1.1952 ,   1.     ]])"
      ]
     },
     "execution_count": 3,
     "metadata": {},
     "output_type": "execute_result"
    }
   ],
   "source": [
    "data"
   ]
  },
  {
   "cell_type": "code",
   "execution_count": 4,
   "metadata": {},
   "outputs": [],
   "source": [
    "labels = data[:,4]"
   ]
  },
  {
   "cell_type": "code",
   "execution_count": 5,
   "metadata": {},
   "outputs": [],
   "source": [
    "features = data[:,0:4]"
   ]
  },
  {
   "cell_type": "code",
   "execution_count": 6,
   "metadata": {},
   "outputs": [],
   "source": [
    "X = features\n",
    "y = labels"
   ]
  },
  {
   "cell_type": "code",
   "execution_count": 7,
   "metadata": {},
   "outputs": [],
   "source": [
    "from sklearn.model_selection import train_test_split"
   ]
  },
  {
   "cell_type": "code",
   "execution_count": 8,
   "metadata": {},
   "outputs": [],
   "source": [
    "X_train, X_test, y_train, y_test = train_test_split(X, y, test_size=0.25, random_state=13)"
   ]
  },
  {
   "cell_type": "code",
   "execution_count": 9,
   "metadata": {},
   "outputs": [],
   "source": [
    "from sklearn.preprocessing import MinMaxScaler"
   ]
  },
  {
   "cell_type": "code",
   "execution_count": 10,
   "metadata": {},
   "outputs": [],
   "source": [
    "scaler = MinMaxScaler()"
   ]
  },
  {
   "cell_type": "code",
   "execution_count": 11,
   "metadata": {},
   "outputs": [
    {
     "data": {
      "text/plain": [
       "MinMaxScaler(copy=True, feature_range=(0, 1))"
      ]
     },
     "execution_count": 11,
     "metadata": {},
     "output_type": "execute_result"
    }
   ],
   "source": [
    "scaler.fit(X_train)"
   ]
  },
  {
   "cell_type": "code",
   "execution_count": 12,
   "metadata": {},
   "outputs": [],
   "source": [
    "scaled_X_train = scaler.transform(X_train)"
   ]
  },
  {
   "cell_type": "code",
   "execution_count": 13,
   "metadata": {},
   "outputs": [],
   "source": [
    "scaled_X_test = scaler.transform(X_test)"
   ]
  },
  {
   "cell_type": "code",
   "execution_count": 14,
   "metadata": {},
   "outputs": [
    {
     "name": "stderr",
     "output_type": "stream",
     "text": [
      "Using TensorFlow backend.\n"
     ]
    }
   ],
   "source": [
    "from keras.models import Sequential\n",
    "from keras.layers import Dense"
   ]
  },
  {
   "cell_type": "code",
   "execution_count": 15,
   "metadata": {},
   "outputs": [],
   "source": [
    "model = Sequential()\n",
    "\n",
    "model.add(Dense(4, input_dim=4, activation='relu'))\n",
    "\n",
    "model.add(Dense(8, activation='relu'))\n",
    "\n",
    "model.add(Dense(1, activation='sigmoid'))"
   ]
  },
  {
   "cell_type": "code",
   "execution_count": 16,
   "metadata": {},
   "outputs": [],
   "source": [
    "model.compile(loss='binary_crossentropy', optimizer='adam', metrics=['accuracy'])"
   ]
  },
  {
   "cell_type": "code",
   "execution_count": 17,
   "metadata": {},
   "outputs": [
    {
     "name": "stdout",
     "output_type": "stream",
     "text": [
      "Epoch 1/50\n",
      " - 0s - loss: 0.6938 - acc: 0.4947\n",
      "Epoch 2/50\n",
      " - 0s - loss: 0.6881 - acc: 0.6268\n",
      "Epoch 3/50\n",
      " - 0s - loss: 0.6833 - acc: 0.6842\n",
      "Epoch 4/50\n",
      " - 0s - loss: 0.6746 - acc: 0.6919\n",
      "Epoch 5/50\n",
      " - 0s - loss: 0.6623 - acc: 0.7162\n",
      "Epoch 6/50\n",
      " - 0s - loss: 0.6481 - acc: 0.7376\n",
      "Epoch 7/50\n",
      " - 0s - loss: 0.6317 - acc: 0.7609\n",
      "Epoch 8/50\n",
      " - 0s - loss: 0.6145 - acc: 0.7707\n",
      "Epoch 9/50\n",
      " - 0s - loss: 0.5953 - acc: 0.7843\n",
      "Epoch 10/50\n",
      " - 0s - loss: 0.5754 - acc: 0.7891\n",
      "Epoch 11/50\n",
      " - 0s - loss: 0.5520 - acc: 0.8047\n",
      "Epoch 12/50\n",
      " - 0s - loss: 0.5262 - acc: 0.8105\n",
      "Epoch 13/50\n",
      " - 0s - loss: 0.5035 - acc: 0.8105\n",
      "Epoch 14/50\n",
      " - 0s - loss: 0.4826 - acc: 0.8173\n",
      "Epoch 15/50\n",
      " - 0s - loss: 0.4634 - acc: 0.8290\n",
      "Epoch 16/50\n",
      " - 0s - loss: 0.4476 - acc: 0.8387\n",
      "Epoch 17/50\n",
      " - 0s - loss: 0.4325 - acc: 0.8348\n",
      "Epoch 18/50\n",
      " - 0s - loss: 0.4181 - acc: 0.8445\n",
      "Epoch 19/50\n",
      " - 0s - loss: 0.4048 - acc: 0.8503\n",
      "Epoch 20/50\n",
      " - 0s - loss: 0.3924 - acc: 0.8533\n",
      "Epoch 21/50\n",
      " - 0s - loss: 0.3811 - acc: 0.8591\n",
      "Epoch 22/50\n",
      " - 0s - loss: 0.3709 - acc: 0.8669\n",
      "Epoch 23/50\n",
      " - 0s - loss: 0.3594 - acc: 0.8698\n",
      "Epoch 24/50\n",
      " - 0s - loss: 0.3496 - acc: 0.8737\n",
      "Epoch 25/50\n",
      " - 0s - loss: 0.3401 - acc: 0.8805\n",
      "Epoch 26/50\n",
      " - 0s - loss: 0.3308 - acc: 0.8834\n",
      "Epoch 27/50\n",
      " - 0s - loss: 0.3218 - acc: 0.8834\n",
      "Epoch 28/50\n",
      " - 0s - loss: 0.3125 - acc: 0.8950\n",
      "Epoch 29/50\n",
      " - 0s - loss: 0.3030 - acc: 0.8912\n",
      "Epoch 30/50\n",
      " - 0s - loss: 0.2944 - acc: 0.9048\n",
      "Epoch 31/50\n",
      " - 0s - loss: 0.2838 - acc: 0.9106\n",
      "Epoch 32/50\n",
      " - 0s - loss: 0.2741 - acc: 0.9135\n",
      "Epoch 33/50\n",
      " - 0s - loss: 0.2675 - acc: 0.9135\n",
      "Epoch 34/50\n",
      " - 0s - loss: 0.2587 - acc: 0.9164\n",
      "Epoch 35/50\n",
      " - 0s - loss: 0.2500 - acc: 0.9242\n",
      "Epoch 36/50\n",
      " - 0s - loss: 0.2422 - acc: 0.9252\n",
      "Epoch 37/50\n",
      " - 0s - loss: 0.2343 - acc: 0.9291\n",
      "Epoch 38/50\n",
      " - 0s - loss: 0.2289 - acc: 0.9320\n",
      "Epoch 39/50\n",
      " - 0s - loss: 0.2208 - acc: 0.9329\n",
      "Epoch 40/50\n",
      " - 0s - loss: 0.2142 - acc: 0.9349\n",
      "Epoch 41/50\n",
      " - 0s - loss: 0.2078 - acc: 0.9359\n",
      "Epoch 42/50\n",
      " - 0s - loss: 0.2026 - acc: 0.9339\n",
      "Epoch 43/50\n",
      " - 0s - loss: 0.1961 - acc: 0.9388\n",
      "Epoch 44/50\n",
      " - 0s - loss: 0.1905 - acc: 0.9378\n",
      "Epoch 45/50\n",
      " - 0s - loss: 0.1852 - acc: 0.9397\n",
      "Epoch 46/50\n",
      " - 0s - loss: 0.1802 - acc: 0.9397\n",
      "Epoch 47/50\n",
      " - 0s - loss: 0.1757 - acc: 0.9378\n",
      "Epoch 48/50\n",
      " - 0s - loss: 0.1696 - acc: 0.9397\n",
      "Epoch 49/50\n",
      " - 0s - loss: 0.1653 - acc: 0.9417\n",
      "Epoch 50/50\n",
      " - 0s - loss: 0.1608 - acc: 0.9407\n"
     ]
    },
    {
     "data": {
      "text/plain": [
       "<keras.callbacks.History at 0x1a2d9ab630>"
      ]
     },
     "execution_count": 17,
     "metadata": {},
     "output_type": "execute_result"
    }
   ],
   "source": [
    "model.fit(scaled_X_train, y_train, epochs=50, verbose=2)"
   ]
  },
  {
   "cell_type": "code",
   "execution_count": 19,
   "metadata": {},
   "outputs": [],
   "source": [
    "# model.predict_classes(scaled_X_test)"
   ]
  },
  {
   "cell_type": "code",
   "execution_count": 20,
   "metadata": {},
   "outputs": [
    {
     "data": {
      "text/plain": [
       "['loss', 'acc']"
      ]
     },
     "execution_count": 20,
     "metadata": {},
     "output_type": "execute_result"
    }
   ],
   "source": [
    "model.metrics_names"
   ]
  },
  {
   "cell_type": "code",
   "execution_count": 21,
   "metadata": {},
   "outputs": [],
   "source": [
    "from sklearn.metrics import confusion_matrix, classification_report"
   ]
  },
  {
   "cell_type": "code",
   "execution_count": 22,
   "metadata": {},
   "outputs": [],
   "source": [
    "predictions = model.predict_classes(scaled_X_test)"
   ]
  },
  {
   "cell_type": "code",
   "execution_count": 24,
   "metadata": {},
   "outputs": [
    {
     "data": {
      "text/plain": [
       "array([[187,   8],\n",
       "       [  8, 140]])"
      ]
     },
     "execution_count": 24,
     "metadata": {},
     "output_type": "execute_result"
    }
   ],
   "source": [
    "confusion_matrix(y_test, predictions)"
   ]
  },
  {
   "cell_type": "code",
   "execution_count": 25,
   "metadata": {},
   "outputs": [
    {
     "name": "stdout",
     "output_type": "stream",
     "text": [
      "             precision    recall  f1-score   support\n",
      "\n",
      "        0.0       0.96      0.96      0.96       195\n",
      "        1.0       0.95      0.95      0.95       148\n",
      "\n",
      "avg / total       0.95      0.95      0.95       343\n",
      "\n"
     ]
    }
   ],
   "source": [
    "print(classification_report(y_test, predictions))"
   ]
  },
  {
   "cell_type": "code",
   "execution_count": 26,
   "metadata": {},
   "outputs": [],
   "source": [
    "model.save('73-Keras-Basics.h5')"
   ]
  },
  {
   "cell_type": "code",
   "execution_count": 27,
   "metadata": {},
   "outputs": [],
   "source": [
    "from keras.models import load_model"
   ]
  },
  {
   "cell_type": "code",
   "execution_count": 28,
   "metadata": {},
   "outputs": [],
   "source": [
    "new_model = load_model('73-Keras-Basics.h5')"
   ]
  },
  {
   "cell_type": "code",
   "execution_count": null,
   "metadata": {},
   "outputs": [],
   "source": []
  }
 ],
 "metadata": {
  "kernelspec": {
   "display_name": "Python 3",
   "language": "python",
   "name": "python3"
  },
  "language_info": {
   "codemirror_mode": {
    "name": "ipython",
    "version": 3
   },
   "file_extension": ".py",
   "mimetype": "text/x-python",
   "name": "python",
   "nbconvert_exporter": "python",
   "pygments_lexer": "ipython3",
   "version": "3.6.6"
  }
 },
 "nbformat": 4,
 "nbformat_minor": 4
}
