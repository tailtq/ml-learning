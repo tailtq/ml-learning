{
 "cells": [
  {
   "cell_type": "code",
   "execution_count": 1,
   "metadata": {},
   "outputs": [
    {
     "name": "stderr",
     "output_type": "stream",
     "text": [
      "Using TensorFlow backend.\n"
     ]
    }
   ],
   "source": [
    "import numpy as np\n",
    "from keras.utils import to_categorical\n",
    "\n",
    "np.set_printoptions(precision=2)"
   ]
  },
  {
   "cell_type": "code",
   "execution_count": 2,
   "metadata": {},
   "outputs": [],
   "source": [
    "X = np.array([\n",
    "    [1, 2, 3],\n",
    "    [20, 20, 10],\n",
    "    [10, 20, 30],\n",
    "    [25, 25, 26],\n",
    "    \n",
    "    [5, 10, 5],\n",
    "    [5, 20, 15],\n",
    "    [15, 30, 10],\n",
    "    [33, 33, 34],\n",
    "    \n",
    "    [8, 9, 5],\n",
    "    [10, 10, 15],\n",
    "    [25, 25, 25],\n",
    "    [30, 29, 28],\n",
    "    \n",
    "    [10, 10, 5],\n",
    "    [8, 10, 9],\n",
    "    [45, 5, 20],\n",
    "    [85, 1, 1],\n",
    "    \n",
    "    [6, 10, 8],\n",
    "    [10, 10, 30],\n",
    "    [25, 25, 20],\n",
    "    [82, 3, 4],\n",
    "    \n",
    "    [5, 1, 9],\n",
    "    [10, 8, 20],\n",
    "    [1, 2, 50],\n",
    "    [35, 25, 31],\n",
    "    \n",
    "    [8, 6, 2],\n",
    "    [30, 2, 4],\n",
    "    [8, 35, 10],\n",
    "    [29, 30, 31],\n",
    "    \n",
    "    [3, 5, 7],\n",
    "    [33, 1, 9],\n",
    "    [12, 13, 29],\n",
    "    [3, 87, 1],\n",
    "])\n",
    "\n",
    "y = np.array([1, 2, 3, 4, 1, 2, 3, 4, 1, 2, 3, 4, 1, 2, 3, 4, 1, 2, 3, 4, 1, 2, 3, 4, 1, 2, 3, 4, 1, 2, 3, 4]) - 1\n",
    "y = to_categorical(y)"
   ]
  },
  {
   "cell_type": "code",
   "execution_count": 11,
   "metadata": {},
   "outputs": [],
   "source": [
    "class OneVsAllClassificationNeuralNetwork:\n",
    "    def __init__(self):\n",
    "        self.layers = []\n",
    "        \n",
    "    def add_layer(self, units):\n",
    "        self.layers.append({\n",
    "            'units': units,\n",
    "        })\n",
    "    \n",
    "    def initialize_weights(self):\n",
    "        parameters = {}\n",
    "        \n",
    "        for i in range(len(self.layers)):            \n",
    "            if i == 0:\n",
    "                n_prev = self.X.shape[0]\n",
    "            else:\n",
    "                n_prev = self.layers[i - 1].get('units')\n",
    "                \n",
    "            i_str = str(i + 1)\n",
    "            layer = self.layers[i]\n",
    "            units = layer.get('units')\n",
    "            \n",
    "            parameters['W' + i_str] = np.random.rand(n_prev, units) * 0.01\n",
    "            parameters['b' + i_str] = np.zeros((units, 1))\n",
    "            \n",
    "        return parameters\n",
    "    \n",
    "    def fit(self, X, y, epochs=1, learning_rate=0.01):\n",
    "        self.X = X.T\n",
    "        self.y = y.T\n",
    "        self.epochs = epochs\n",
    "        self.learning_rate = learning_rate\n",
    "        self.layers_len = len(self.layers)\n",
    "        self.examples_len = self.X.shape[1]\n",
    "\n",
    "        self.parameters = self.initialize_weights()\n",
    "        \n",
    "        for i in range(epochs):\n",
    "            A = self.forward_propagate(self.X)\n",
    "            \n",
    "            if (i + 1) % 100 == 0 or i == 0:\n",
    "                cost = self.compute_cost(A[self.layers_len])\n",
    "                print('Epoch ' + str(i + 1) + ' cost: ' + str(cost))\n",
    "            \n",
    "            changes = self.backward_propagate(A)\n",
    "            \n",
    "            self.parameters = self.optimize(self.parameters, changes)\n",
    "            \n",
    "    def forward_propagate(self, X, debug=False):\n",
    "        A = [X]\n",
    "        \n",
    "        for i in range(1, self.layers_len + 1):\n",
    "            i_str = str(i)\n",
    "            \n",
    "            Z = np.dot(self.parameters['W' + i_str].T, A[i - 1]) + self.parameters['b' + i_str]\n",
    "            A.append(self.sigmoid(Z))\n",
    "        \n",
    "        return A\n",
    "    \n",
    "    def backward_propagate(self, A):\n",
    "        changes = {}\n",
    "        dZs = {}\n",
    "        \n",
    "        for i in reversed(range(1, self.layers_len + 1)):\n",
    "            i_str = str(i)\n",
    "            current_A = A[i]\n",
    "            \n",
    "            if i == self.layers_len:\n",
    "                dZ = A[self.layers_len] - self.y\n",
    "            else:\n",
    "                dZ = np.dot(self.parameters['W' + str(i + 1)], next_dZ) * (current_A * (1 - current_A))\n",
    "            \n",
    "            next_dZ = dZ\n",
    "            changes['dW' + i_str] = (1 / self.examples_len) * np.dot(A[i - 1], dZ.T)\n",
    "            changes['db' + i_str] = (1 / self.examples_len) * np.sum(dZ)\n",
    "            \n",
    "        return changes\n",
    "    \n",
    "    def optimize(self, parameters, changes):\n",
    "        for i in range(1, self.layers_len + 1):\n",
    "            i_str = str(i)\n",
    "                        \n",
    "            parameters['W' + i_str] -= self.learning_rate * changes['dW' + i_str]\n",
    "            parameters['b' + i_str] -= self.learning_rate * changes['db' + i_str]\n",
    "            \n",
    "        return parameters\n",
    "    \n",
    "    def compute_cost(self, A):\n",
    "        return (-1 / self.examples_len) * np.sum(self.y * np.log(A) + (1 - self.y) * np.log(1 - A))\n",
    "    \n",
    "    def predict(self, X, debug=False):\n",
    "        return self.forward_propagate(X.T, debug)[-1]\n",
    "    \n",
    "    def sigmoid(self, Z):\n",
    "        return 1 / (1 + np.exp(-Z))"
   ]
  },
  {
   "cell_type": "code",
   "execution_count": 20,
   "metadata": {},
   "outputs": [
    {
     "name": "stdout",
     "output_type": "stream",
     "text": [
      "Epoch 1 cost: 2.8004635792963404\n",
      "Epoch 100 cost: 2.2493364460599383\n",
      "Epoch 200 cost: 2.2493350139954895\n",
      "Epoch 300 cost: 2.2493328900527203\n",
      "Epoch 400 cost: 2.249329559326416\n",
      "Epoch 500 cost: 2.2493240671845403\n",
      "Epoch 600 cost: 2.249314523357718\n",
      "Epoch 700 cost: 2.2492969156110227\n",
      "Epoch 800 cost: 2.249262083151928\n",
      "Epoch 900 cost: 2.2491876489232743\n",
      "Epoch 1000 cost: 2.2490166118812027\n",
      "Epoch 1100 cost: 2.248606074717302\n",
      "Epoch 1200 cost: 2.247630698622411\n",
      "Epoch 1300 cost: 2.2454344331637826\n",
      "Epoch 1400 cost: 2.2407537247493168\n",
      "Epoch 1500 cost: 2.23131145818029\n",
      "Epoch 1600 cost: 2.213153180836284\n",
      "Epoch 1700 cost: 2.1767642187235317\n",
      "Epoch 1800 cost: 2.0928603172887184\n",
      "Epoch 1900 cost: 1.9057495121090438\n",
      "Epoch 2000 cost: 1.679349901053416\n",
      "Epoch 2100 cost: 1.5467200490415354\n",
      "Epoch 2200 cost: 1.4806988323917496\n",
      "Epoch 2300 cost: 1.490419234354262\n",
      "Epoch 2400 cost: 1.4615471461432252\n",
      "Epoch 2500 cost: 1.4420473626278238\n",
      "Epoch 2600 cost: 1.4272517760184713\n",
      "Epoch 2700 cost: 1.415076527379338\n",
      "Epoch 2800 cost: 1.3869026350160407\n",
      "Epoch 2900 cost: 1.3505274111089578\n",
      "Epoch 3000 cost: 1.3019057066526414\n"
     ]
    }
   ],
   "source": [
    "model = OneVsAllClassificationNeuralNetwork()\n",
    "model.add_layer(10)\n",
    "model.add_layer(10)\n",
    "model.add_layer(4)\n",
    "model.fit(X, y, 3000, 0.1)"
   ]
  },
  {
   "cell_type": "code",
   "execution_count": 26,
   "metadata": {},
   "outputs": [
    {
     "data": {
      "text/plain": [
       "array([[0.61, 0.06],\n",
       "       [0.34, 0.34],\n",
       "       [0.05, 0.19],\n",
       "       [0.  , 0.02]])"
      ]
     },
     "execution_count": 26,
     "metadata": {},
     "output_type": "execute_result"
    }
   ],
   "source": [
    "X_test = np.array([[3, 4, 15], [20, 1, 25]])\n",
    "model.predict(X_test, debug=True)"
   ]
  },
  {
   "cell_type": "code",
   "execution_count": null,
   "metadata": {},
   "outputs": [],
   "source": []
  },
  {
   "cell_type": "code",
   "execution_count": null,
   "metadata": {},
   "outputs": [],
   "source": []
  }
 ],
 "metadata": {
  "kernelspec": {
   "display_name": "Python 3",
   "language": "python",
   "name": "python3"
  },
  "language_info": {
   "codemirror_mode": {
    "name": "ipython",
    "version": 3
   },
   "file_extension": ".py",
   "mimetype": "text/x-python",
   "name": "python",
   "nbconvert_exporter": "python",
   "pygments_lexer": "ipython3",
   "version": "3.6.6"
  }
 },
 "nbformat": 4,
 "nbformat_minor": 4
}
