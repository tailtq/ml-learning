{
 "cells": [
  {
   "cell_type": "code",
   "execution_count": 1,
   "metadata": {},
   "outputs": [],
   "source": [
    "import numpy as np"
   ]
  },
  {
   "cell_type": "code",
   "execution_count": 2,
   "metadata": {},
   "outputs": [],
   "source": [
    "class LinearSupportVectorMachines:\n",
    "    def __init__(self):\n",
    "        pass\n",
    "    \n",
    "    def initialize_weights(self, weights_len):\n",
    "        pass\n",
    "    \n",
    "    def fit(self, X, y, epochs=1, learning_rate=0.01):\n",
    "        pass\n",
    "        \n",
    "    def forward_propagate(self, W, b, X):\n",
    "        pass\n",
    "    \n",
    "    def backward_propagate(self, m, X, A, y):\n",
    "        pass\n",
    "    \n",
    "    def optimize(self, learning_rate, W, dW, b, db):\n",
    "        pass\n",
    "    \n",
    "    def compute_cost(self, m, A, y):\n",
    "        pass\n",
    "    \n",
    "    def predict(self, X):\n",
    "        pass"
   ]
  },
  {
   "cell_type": "code",
   "execution_count": null,
   "metadata": {},
   "outputs": [],
   "source": []
  }
 ],
 "metadata": {
  "kernelspec": {
   "display_name": "Python 3",
   "language": "python",
   "name": "python3"
  },
  "language_info": {
   "codemirror_mode": {
    "name": "ipython",
    "version": 3
   },
   "file_extension": ".py",
   "mimetype": "text/x-python",
   "name": "python",
   "nbconvert_exporter": "python",
   "pygments_lexer": "ipython3",
   "version": "3.6.6"
  }
 },
 "nbformat": 4,
 "nbformat_minor": 4
}
