{
 "cells": [
  {
   "cell_type": "code",
   "execution_count": 684,
   "metadata": {},
   "outputs": [],
   "source": [
    "import numpy as np\n",
    "import pandas as pd\n",
    "import matplotlib.pyplot as plt\n",
    "import seaborn as sns\n",
    "import datetime"
   ]
  },
  {
   "cell_type": "code",
   "execution_count": 685,
   "metadata": {},
   "outputs": [],
   "source": [
    "import warnings\n",
    "warnings.filterwarnings(\"ignore\")"
   ]
  },
  {
   "cell_type": "markdown",
   "metadata": {},
   "source": [
    "## Notes\n",
    "Some Key Details\n",
    "- Suburb: Suburb\n",
    "- Address: Address\n",
    "- Rooms: Number of rooms\n",
    "- Price: Price in Australian dollars\n",
    "- Method:\n",
    "   - S - property sold;\n",
    "   - SP - property sold prior;\n",
    "   - PI - property passed in;\n",
    "   - PN - sold prior not disclosed;\n",
    "   - SN - sold not disclosed;\n",
    "   - NB - no bid;\n",
    "   - VB - vendor bid;\n",
    "   - W - withdrawn prior to auction;\n",
    "   - SA - sold after auction;\n",
    "   - SS - sold after auction price not disclosed.\n",
    "   - N/A - price or highest bid not available.\n",
    "- Type:\n",
    "   - br - bedroom(s);\n",
    "   - h - house,cottage,villa, semi,terrace;\n",
    "   - u - unit, duplex;\n",
    "   - t - townhouse;\n",
    "   - dev site - development site;\n",
    "   - o res - other residential.\n",
    "- SellerG: Real Estate Agent\n",
    "- Date: Date sold\n",
    "- Distance: Distance from CBD in Kilometres\n",
    "- Regionname: General Region (West, North West, North, North east …etc)\n",
    "- Propertycount: Number of properties that exist in the suburb.\n",
    "- Bedroom2 : Scraped # of Bedrooms (from different source)\n",
    "- Bathroom: Number of Bathrooms\n",
    "- Car: Number of carspots\n",
    "- Landsize: Land Size in Metres\n",
    "- BuildingArea: Building Size in Metres\n",
    "- YearBuilt: Year the house was built\n",
    "- CouncilArea: Governing council for the area\n",
    "- Lattitude: Self explanitory\n",
    "- Longtitude: Self explanitory"
   ]
  },
  {
   "cell_type": "code",
   "execution_count": 686,
   "metadata": {},
   "outputs": [
    {
     "data": {
      "text/html": [
       "<div>\n",
       "<style scoped>\n",
       "    .dataframe tbody tr th:only-of-type {\n",
       "        vertical-align: middle;\n",
       "    }\n",
       "\n",
       "    .dataframe tbody tr th {\n",
       "        vertical-align: top;\n",
       "    }\n",
       "\n",
       "    .dataframe thead th {\n",
       "        text-align: right;\n",
       "    }\n",
       "</style>\n",
       "<table border=\"1\" class=\"dataframe\">\n",
       "  <thead>\n",
       "    <tr style=\"text-align: right;\">\n",
       "      <th></th>\n",
       "      <th>0</th>\n",
       "      <th>1</th>\n",
       "      <th>2</th>\n",
       "      <th>3</th>\n",
       "      <th>4</th>\n",
       "    </tr>\n",
       "  </thead>\n",
       "  <tbody>\n",
       "    <tr>\n",
       "      <th>Suburb</th>\n",
       "      <td>Abbotsford</td>\n",
       "      <td>Abbotsford</td>\n",
       "      <td>Abbotsford</td>\n",
       "      <td>Abbotsford</td>\n",
       "      <td>Abbotsford</td>\n",
       "    </tr>\n",
       "    <tr>\n",
       "      <th>Address</th>\n",
       "      <td>68 Studley St</td>\n",
       "      <td>85 Turner St</td>\n",
       "      <td>25 Bloomburg St</td>\n",
       "      <td>18/659 Victoria St</td>\n",
       "      <td>5 Charles St</td>\n",
       "    </tr>\n",
       "    <tr>\n",
       "      <th>Rooms</th>\n",
       "      <td>2</td>\n",
       "      <td>2</td>\n",
       "      <td>2</td>\n",
       "      <td>3</td>\n",
       "      <td>3</td>\n",
       "    </tr>\n",
       "    <tr>\n",
       "      <th>Type</th>\n",
       "      <td>h</td>\n",
       "      <td>h</td>\n",
       "      <td>h</td>\n",
       "      <td>u</td>\n",
       "      <td>h</td>\n",
       "    </tr>\n",
       "    <tr>\n",
       "      <th>Price</th>\n",
       "      <td>NaN</td>\n",
       "      <td>1.48e+06</td>\n",
       "      <td>1.035e+06</td>\n",
       "      <td>NaN</td>\n",
       "      <td>1.465e+06</td>\n",
       "    </tr>\n",
       "    <tr>\n",
       "      <th>Method</th>\n",
       "      <td>SS</td>\n",
       "      <td>S</td>\n",
       "      <td>S</td>\n",
       "      <td>VB</td>\n",
       "      <td>SP</td>\n",
       "    </tr>\n",
       "    <tr>\n",
       "      <th>SellerG</th>\n",
       "      <td>Jellis</td>\n",
       "      <td>Biggin</td>\n",
       "      <td>Biggin</td>\n",
       "      <td>Rounds</td>\n",
       "      <td>Biggin</td>\n",
       "    </tr>\n",
       "    <tr>\n",
       "      <th>Date</th>\n",
       "      <td>3/09/2016</td>\n",
       "      <td>3/12/2016</td>\n",
       "      <td>4/02/2016</td>\n",
       "      <td>4/02/2016</td>\n",
       "      <td>4/03/2017</td>\n",
       "    </tr>\n",
       "    <tr>\n",
       "      <th>Distance</th>\n",
       "      <td>2.5</td>\n",
       "      <td>2.5</td>\n",
       "      <td>2.5</td>\n",
       "      <td>2.5</td>\n",
       "      <td>2.5</td>\n",
       "    </tr>\n",
       "    <tr>\n",
       "      <th>Postcode</th>\n",
       "      <td>3067</td>\n",
       "      <td>3067</td>\n",
       "      <td>3067</td>\n",
       "      <td>3067</td>\n",
       "      <td>3067</td>\n",
       "    </tr>\n",
       "    <tr>\n",
       "      <th>Bedroom2</th>\n",
       "      <td>2</td>\n",
       "      <td>2</td>\n",
       "      <td>2</td>\n",
       "      <td>3</td>\n",
       "      <td>3</td>\n",
       "    </tr>\n",
       "    <tr>\n",
       "      <th>Bathroom</th>\n",
       "      <td>1</td>\n",
       "      <td>1</td>\n",
       "      <td>1</td>\n",
       "      <td>2</td>\n",
       "      <td>2</td>\n",
       "    </tr>\n",
       "    <tr>\n",
       "      <th>Car</th>\n",
       "      <td>1</td>\n",
       "      <td>1</td>\n",
       "      <td>0</td>\n",
       "      <td>1</td>\n",
       "      <td>0</td>\n",
       "    </tr>\n",
       "    <tr>\n",
       "      <th>Landsize</th>\n",
       "      <td>126</td>\n",
       "      <td>202</td>\n",
       "      <td>156</td>\n",
       "      <td>0</td>\n",
       "      <td>134</td>\n",
       "    </tr>\n",
       "    <tr>\n",
       "      <th>BuildingArea</th>\n",
       "      <td>NaN</td>\n",
       "      <td>NaN</td>\n",
       "      <td>79</td>\n",
       "      <td>NaN</td>\n",
       "      <td>150</td>\n",
       "    </tr>\n",
       "    <tr>\n",
       "      <th>YearBuilt</th>\n",
       "      <td>NaN</td>\n",
       "      <td>NaN</td>\n",
       "      <td>1900</td>\n",
       "      <td>NaN</td>\n",
       "      <td>1900</td>\n",
       "    </tr>\n",
       "    <tr>\n",
       "      <th>CouncilArea</th>\n",
       "      <td>Yarra City Council</td>\n",
       "      <td>Yarra City Council</td>\n",
       "      <td>Yarra City Council</td>\n",
       "      <td>Yarra City Council</td>\n",
       "      <td>Yarra City Council</td>\n",
       "    </tr>\n",
       "    <tr>\n",
       "      <th>Lattitude</th>\n",
       "      <td>-37.8014</td>\n",
       "      <td>-37.7996</td>\n",
       "      <td>-37.8079</td>\n",
       "      <td>-37.8114</td>\n",
       "      <td>-37.8093</td>\n",
       "    </tr>\n",
       "    <tr>\n",
       "      <th>Longtitude</th>\n",
       "      <td>144.996</td>\n",
       "      <td>144.998</td>\n",
       "      <td>144.993</td>\n",
       "      <td>145.012</td>\n",
       "      <td>144.994</td>\n",
       "    </tr>\n",
       "    <tr>\n",
       "      <th>Regionname</th>\n",
       "      <td>Northern Metropolitan</td>\n",
       "      <td>Northern Metropolitan</td>\n",
       "      <td>Northern Metropolitan</td>\n",
       "      <td>Northern Metropolitan</td>\n",
       "      <td>Northern Metropolitan</td>\n",
       "    </tr>\n",
       "    <tr>\n",
       "      <th>Propertycount</th>\n",
       "      <td>4019</td>\n",
       "      <td>4019</td>\n",
       "      <td>4019</td>\n",
       "      <td>4019</td>\n",
       "      <td>4019</td>\n",
       "    </tr>\n",
       "  </tbody>\n",
       "</table>\n",
       "</div>"
      ],
      "text/plain": [
       "                                   0                      1  \\\n",
       "Suburb                    Abbotsford             Abbotsford   \n",
       "Address                68 Studley St           85 Turner St   \n",
       "Rooms                              2                      2   \n",
       "Type                               h                      h   \n",
       "Price                            NaN               1.48e+06   \n",
       "Method                            SS                      S   \n",
       "SellerG                       Jellis                 Biggin   \n",
       "Date                       3/09/2016              3/12/2016   \n",
       "Distance                         2.5                    2.5   \n",
       "Postcode                        3067                   3067   \n",
       "Bedroom2                           2                      2   \n",
       "Bathroom                           1                      1   \n",
       "Car                                1                      1   \n",
       "Landsize                         126                    202   \n",
       "BuildingArea                     NaN                    NaN   \n",
       "YearBuilt                        NaN                    NaN   \n",
       "CouncilArea       Yarra City Council     Yarra City Council   \n",
       "Lattitude                   -37.8014               -37.7996   \n",
       "Longtitude                   144.996                144.998   \n",
       "Regionname     Northern Metropolitan  Northern Metropolitan   \n",
       "Propertycount                   4019                   4019   \n",
       "\n",
       "                                   2                      3  \\\n",
       "Suburb                    Abbotsford             Abbotsford   \n",
       "Address              25 Bloomburg St     18/659 Victoria St   \n",
       "Rooms                              2                      3   \n",
       "Type                               h                      u   \n",
       "Price                      1.035e+06                    NaN   \n",
       "Method                             S                     VB   \n",
       "SellerG                       Biggin                 Rounds   \n",
       "Date                       4/02/2016              4/02/2016   \n",
       "Distance                         2.5                    2.5   \n",
       "Postcode                        3067                   3067   \n",
       "Bedroom2                           2                      3   \n",
       "Bathroom                           1                      2   \n",
       "Car                                0                      1   \n",
       "Landsize                         156                      0   \n",
       "BuildingArea                      79                    NaN   \n",
       "YearBuilt                       1900                    NaN   \n",
       "CouncilArea       Yarra City Council     Yarra City Council   \n",
       "Lattitude                   -37.8079               -37.8114   \n",
       "Longtitude                   144.993                145.012   \n",
       "Regionname     Northern Metropolitan  Northern Metropolitan   \n",
       "Propertycount                   4019                   4019   \n",
       "\n",
       "                                   4  \n",
       "Suburb                    Abbotsford  \n",
       "Address                 5 Charles St  \n",
       "Rooms                              3  \n",
       "Type                               h  \n",
       "Price                      1.465e+06  \n",
       "Method                            SP  \n",
       "SellerG                       Biggin  \n",
       "Date                       4/03/2017  \n",
       "Distance                         2.5  \n",
       "Postcode                        3067  \n",
       "Bedroom2                           3  \n",
       "Bathroom                           2  \n",
       "Car                                0  \n",
       "Landsize                         134  \n",
       "BuildingArea                     150  \n",
       "YearBuilt                       1900  \n",
       "CouncilArea       Yarra City Council  \n",
       "Lattitude                   -37.8093  \n",
       "Longtitude                   144.994  \n",
       "Regionname     Northern Metropolitan  \n",
       "Propertycount                   4019  "
      ]
     },
     "execution_count": 686,
     "metadata": {},
     "output_type": "execute_result"
    }
   ],
   "source": [
    "df = pd.read_csv(\"datasets/melbourne_housing_market/melbourne_housing_market_full.csv\")\n",
    "backup_df = df.copy()\n",
    "\n",
    "df.head().T"
   ]
  },
  {
   "cell_type": "code",
   "execution_count": 687,
   "metadata": {},
   "outputs": [
    {
     "data": {
      "text/html": [
       "<div>\n",
       "<style scoped>\n",
       "    .dataframe tbody tr th:only-of-type {\n",
       "        vertical-align: middle;\n",
       "    }\n",
       "\n",
       "    .dataframe tbody tr th {\n",
       "        vertical-align: top;\n",
       "    }\n",
       "\n",
       "    .dataframe thead th {\n",
       "        text-align: right;\n",
       "    }\n",
       "</style>\n",
       "<table border=\"1\" class=\"dataframe\">\n",
       "  <thead>\n",
       "    <tr style=\"text-align: right;\">\n",
       "      <th></th>\n",
       "      <th>count</th>\n",
       "      <th>unique</th>\n",
       "      <th>top</th>\n",
       "      <th>freq</th>\n",
       "      <th>mean</th>\n",
       "      <th>std</th>\n",
       "      <th>min</th>\n",
       "      <th>25%</th>\n",
       "      <th>50%</th>\n",
       "      <th>75%</th>\n",
       "      <th>max</th>\n",
       "    </tr>\n",
       "  </thead>\n",
       "  <tbody>\n",
       "    <tr>\n",
       "      <th>Suburb</th>\n",
       "      <td>34857</td>\n",
       "      <td>351</td>\n",
       "      <td>Reservoir</td>\n",
       "      <td>844</td>\n",
       "      <td>NaN</td>\n",
       "      <td>NaN</td>\n",
       "      <td>NaN</td>\n",
       "      <td>NaN</td>\n",
       "      <td>NaN</td>\n",
       "      <td>NaN</td>\n",
       "      <td>NaN</td>\n",
       "    </tr>\n",
       "    <tr>\n",
       "      <th>Address</th>\n",
       "      <td>34857</td>\n",
       "      <td>34009</td>\n",
       "      <td>5 Charles St</td>\n",
       "      <td>6</td>\n",
       "      <td>NaN</td>\n",
       "      <td>NaN</td>\n",
       "      <td>NaN</td>\n",
       "      <td>NaN</td>\n",
       "      <td>NaN</td>\n",
       "      <td>NaN</td>\n",
       "      <td>NaN</td>\n",
       "    </tr>\n",
       "    <tr>\n",
       "      <th>Rooms</th>\n",
       "      <td>34857</td>\n",
       "      <td>NaN</td>\n",
       "      <td>NaN</td>\n",
       "      <td>NaN</td>\n",
       "      <td>3.03101</td>\n",
       "      <td>0.969933</td>\n",
       "      <td>1</td>\n",
       "      <td>2</td>\n",
       "      <td>3</td>\n",
       "      <td>4</td>\n",
       "      <td>16</td>\n",
       "    </tr>\n",
       "    <tr>\n",
       "      <th>Type</th>\n",
       "      <td>34857</td>\n",
       "      <td>3</td>\n",
       "      <td>h</td>\n",
       "      <td>23980</td>\n",
       "      <td>NaN</td>\n",
       "      <td>NaN</td>\n",
       "      <td>NaN</td>\n",
       "      <td>NaN</td>\n",
       "      <td>NaN</td>\n",
       "      <td>NaN</td>\n",
       "      <td>NaN</td>\n",
       "    </tr>\n",
       "    <tr>\n",
       "      <th>Price</th>\n",
       "      <td>27247</td>\n",
       "      <td>NaN</td>\n",
       "      <td>NaN</td>\n",
       "      <td>NaN</td>\n",
       "      <td>1.05017e+06</td>\n",
       "      <td>641467</td>\n",
       "      <td>85000</td>\n",
       "      <td>635000</td>\n",
       "      <td>870000</td>\n",
       "      <td>1.295e+06</td>\n",
       "      <td>1.12e+07</td>\n",
       "    </tr>\n",
       "    <tr>\n",
       "      <th>Method</th>\n",
       "      <td>34857</td>\n",
       "      <td>9</td>\n",
       "      <td>S</td>\n",
       "      <td>19744</td>\n",
       "      <td>NaN</td>\n",
       "      <td>NaN</td>\n",
       "      <td>NaN</td>\n",
       "      <td>NaN</td>\n",
       "      <td>NaN</td>\n",
       "      <td>NaN</td>\n",
       "      <td>NaN</td>\n",
       "    </tr>\n",
       "    <tr>\n",
       "      <th>SellerG</th>\n",
       "      <td>34857</td>\n",
       "      <td>388</td>\n",
       "      <td>Jellis</td>\n",
       "      <td>3359</td>\n",
       "      <td>NaN</td>\n",
       "      <td>NaN</td>\n",
       "      <td>NaN</td>\n",
       "      <td>NaN</td>\n",
       "      <td>NaN</td>\n",
       "      <td>NaN</td>\n",
       "      <td>NaN</td>\n",
       "    </tr>\n",
       "    <tr>\n",
       "      <th>Date</th>\n",
       "      <td>34857</td>\n",
       "      <td>78</td>\n",
       "      <td>28/10/2017</td>\n",
       "      <td>1119</td>\n",
       "      <td>NaN</td>\n",
       "      <td>NaN</td>\n",
       "      <td>NaN</td>\n",
       "      <td>NaN</td>\n",
       "      <td>NaN</td>\n",
       "      <td>NaN</td>\n",
       "      <td>NaN</td>\n",
       "    </tr>\n",
       "    <tr>\n",
       "      <th>Distance</th>\n",
       "      <td>34856</td>\n",
       "      <td>NaN</td>\n",
       "      <td>NaN</td>\n",
       "      <td>NaN</td>\n",
       "      <td>11.1849</td>\n",
       "      <td>6.78889</td>\n",
       "      <td>0</td>\n",
       "      <td>6.4</td>\n",
       "      <td>10.3</td>\n",
       "      <td>14</td>\n",
       "      <td>48.1</td>\n",
       "    </tr>\n",
       "    <tr>\n",
       "      <th>Postcode</th>\n",
       "      <td>34856</td>\n",
       "      <td>NaN</td>\n",
       "      <td>NaN</td>\n",
       "      <td>NaN</td>\n",
       "      <td>3116.06</td>\n",
       "      <td>109.024</td>\n",
       "      <td>3000</td>\n",
       "      <td>3051</td>\n",
       "      <td>3103</td>\n",
       "      <td>3156</td>\n",
       "      <td>3978</td>\n",
       "    </tr>\n",
       "    <tr>\n",
       "      <th>Bedroom2</th>\n",
       "      <td>26640</td>\n",
       "      <td>NaN</td>\n",
       "      <td>NaN</td>\n",
       "      <td>NaN</td>\n",
       "      <td>3.08465</td>\n",
       "      <td>0.98069</td>\n",
       "      <td>0</td>\n",
       "      <td>2</td>\n",
       "      <td>3</td>\n",
       "      <td>4</td>\n",
       "      <td>30</td>\n",
       "    </tr>\n",
       "    <tr>\n",
       "      <th>Bathroom</th>\n",
       "      <td>26631</td>\n",
       "      <td>NaN</td>\n",
       "      <td>NaN</td>\n",
       "      <td>NaN</td>\n",
       "      <td>1.6248</td>\n",
       "      <td>0.724212</td>\n",
       "      <td>0</td>\n",
       "      <td>1</td>\n",
       "      <td>2</td>\n",
       "      <td>2</td>\n",
       "      <td>12</td>\n",
       "    </tr>\n",
       "    <tr>\n",
       "      <th>Car</th>\n",
       "      <td>26129</td>\n",
       "      <td>NaN</td>\n",
       "      <td>NaN</td>\n",
       "      <td>NaN</td>\n",
       "      <td>1.72885</td>\n",
       "      <td>1.01077</td>\n",
       "      <td>0</td>\n",
       "      <td>1</td>\n",
       "      <td>2</td>\n",
       "      <td>2</td>\n",
       "      <td>26</td>\n",
       "    </tr>\n",
       "    <tr>\n",
       "      <th>Landsize</th>\n",
       "      <td>23047</td>\n",
       "      <td>NaN</td>\n",
       "      <td>NaN</td>\n",
       "      <td>NaN</td>\n",
       "      <td>593.599</td>\n",
       "      <td>3398.84</td>\n",
       "      <td>0</td>\n",
       "      <td>224</td>\n",
       "      <td>521</td>\n",
       "      <td>670</td>\n",
       "      <td>433014</td>\n",
       "    </tr>\n",
       "    <tr>\n",
       "      <th>BuildingArea</th>\n",
       "      <td>13742</td>\n",
       "      <td>NaN</td>\n",
       "      <td>NaN</td>\n",
       "      <td>NaN</td>\n",
       "      <td>160.256</td>\n",
       "      <td>401.267</td>\n",
       "      <td>0</td>\n",
       "      <td>102</td>\n",
       "      <td>136</td>\n",
       "      <td>188</td>\n",
       "      <td>44515</td>\n",
       "    </tr>\n",
       "    <tr>\n",
       "      <th>YearBuilt</th>\n",
       "      <td>15551</td>\n",
       "      <td>NaN</td>\n",
       "      <td>NaN</td>\n",
       "      <td>NaN</td>\n",
       "      <td>1965.29</td>\n",
       "      <td>37.3282</td>\n",
       "      <td>1196</td>\n",
       "      <td>1940</td>\n",
       "      <td>1970</td>\n",
       "      <td>2000</td>\n",
       "      <td>2106</td>\n",
       "    </tr>\n",
       "    <tr>\n",
       "      <th>CouncilArea</th>\n",
       "      <td>34854</td>\n",
       "      <td>33</td>\n",
       "      <td>Boroondara City Council</td>\n",
       "      <td>3675</td>\n",
       "      <td>NaN</td>\n",
       "      <td>NaN</td>\n",
       "      <td>NaN</td>\n",
       "      <td>NaN</td>\n",
       "      <td>NaN</td>\n",
       "      <td>NaN</td>\n",
       "      <td>NaN</td>\n",
       "    </tr>\n",
       "    <tr>\n",
       "      <th>Lattitude</th>\n",
       "      <td>26881</td>\n",
       "      <td>NaN</td>\n",
       "      <td>NaN</td>\n",
       "      <td>NaN</td>\n",
       "      <td>-37.8106</td>\n",
       "      <td>0.0902789</td>\n",
       "      <td>-38.1904</td>\n",
       "      <td>-37.8629</td>\n",
       "      <td>-37.8076</td>\n",
       "      <td>-37.7541</td>\n",
       "      <td>-37.3902</td>\n",
       "    </tr>\n",
       "    <tr>\n",
       "      <th>Longtitude</th>\n",
       "      <td>26881</td>\n",
       "      <td>NaN</td>\n",
       "      <td>NaN</td>\n",
       "      <td>NaN</td>\n",
       "      <td>145.002</td>\n",
       "      <td>0.120169</td>\n",
       "      <td>144.424</td>\n",
       "      <td>144.934</td>\n",
       "      <td>145.008</td>\n",
       "      <td>145.072</td>\n",
       "      <td>145.526</td>\n",
       "    </tr>\n",
       "    <tr>\n",
       "      <th>Regionname</th>\n",
       "      <td>34854</td>\n",
       "      <td>8</td>\n",
       "      <td>Southern Metropolitan</td>\n",
       "      <td>11836</td>\n",
       "      <td>NaN</td>\n",
       "      <td>NaN</td>\n",
       "      <td>NaN</td>\n",
       "      <td>NaN</td>\n",
       "      <td>NaN</td>\n",
       "      <td>NaN</td>\n",
       "      <td>NaN</td>\n",
       "    </tr>\n",
       "    <tr>\n",
       "      <th>Propertycount</th>\n",
       "      <td>34854</td>\n",
       "      <td>NaN</td>\n",
       "      <td>NaN</td>\n",
       "      <td>NaN</td>\n",
       "      <td>7572.89</td>\n",
       "      <td>4428.09</td>\n",
       "      <td>83</td>\n",
       "      <td>4385</td>\n",
       "      <td>6763</td>\n",
       "      <td>10412</td>\n",
       "      <td>21650</td>\n",
       "    </tr>\n",
       "  </tbody>\n",
       "</table>\n",
       "</div>"
      ],
      "text/plain": [
       "               count unique                      top   freq         mean  \\\n",
       "Suburb         34857    351                Reservoir    844          NaN   \n",
       "Address        34857  34009             5 Charles St      6          NaN   \n",
       "Rooms          34857    NaN                      NaN    NaN      3.03101   \n",
       "Type           34857      3                        h  23980          NaN   \n",
       "Price          27247    NaN                      NaN    NaN  1.05017e+06   \n",
       "Method         34857      9                        S  19744          NaN   \n",
       "SellerG        34857    388                   Jellis   3359          NaN   \n",
       "Date           34857     78               28/10/2017   1119          NaN   \n",
       "Distance       34856    NaN                      NaN    NaN      11.1849   \n",
       "Postcode       34856    NaN                      NaN    NaN      3116.06   \n",
       "Bedroom2       26640    NaN                      NaN    NaN      3.08465   \n",
       "Bathroom       26631    NaN                      NaN    NaN       1.6248   \n",
       "Car            26129    NaN                      NaN    NaN      1.72885   \n",
       "Landsize       23047    NaN                      NaN    NaN      593.599   \n",
       "BuildingArea   13742    NaN                      NaN    NaN      160.256   \n",
       "YearBuilt      15551    NaN                      NaN    NaN      1965.29   \n",
       "CouncilArea    34854     33  Boroondara City Council   3675          NaN   \n",
       "Lattitude      26881    NaN                      NaN    NaN     -37.8106   \n",
       "Longtitude     26881    NaN                      NaN    NaN      145.002   \n",
       "Regionname     34854      8    Southern Metropolitan  11836          NaN   \n",
       "Propertycount  34854    NaN                      NaN    NaN      7572.89   \n",
       "\n",
       "                     std      min      25%      50%        75%       max  \n",
       "Suburb               NaN      NaN      NaN      NaN        NaN       NaN  \n",
       "Address              NaN      NaN      NaN      NaN        NaN       NaN  \n",
       "Rooms           0.969933        1        2        3          4        16  \n",
       "Type                 NaN      NaN      NaN      NaN        NaN       NaN  \n",
       "Price             641467    85000   635000   870000  1.295e+06  1.12e+07  \n",
       "Method               NaN      NaN      NaN      NaN        NaN       NaN  \n",
       "SellerG              NaN      NaN      NaN      NaN        NaN       NaN  \n",
       "Date                 NaN      NaN      NaN      NaN        NaN       NaN  \n",
       "Distance         6.78889        0      6.4     10.3         14      48.1  \n",
       "Postcode         109.024     3000     3051     3103       3156      3978  \n",
       "Bedroom2         0.98069        0        2        3          4        30  \n",
       "Bathroom        0.724212        0        1        2          2        12  \n",
       "Car              1.01077        0        1        2          2        26  \n",
       "Landsize         3398.84        0      224      521        670    433014  \n",
       "BuildingArea     401.267        0      102      136        188     44515  \n",
       "YearBuilt        37.3282     1196     1940     1970       2000      2106  \n",
       "CouncilArea          NaN      NaN      NaN      NaN        NaN       NaN  \n",
       "Lattitude      0.0902789 -38.1904 -37.8629 -37.8076   -37.7541  -37.3902  \n",
       "Longtitude      0.120169  144.424  144.934  145.008    145.072   145.526  \n",
       "Regionname           NaN      NaN      NaN      NaN        NaN       NaN  \n",
       "Propertycount    4428.09       83     4385     6763      10412     21650  "
      ]
     },
     "execution_count": 687,
     "metadata": {},
     "output_type": "execute_result"
    }
   ],
   "source": [
    "df.describe(include=\"all\").T"
   ]
  },
  {
   "cell_type": "code",
   "execution_count": 688,
   "metadata": {},
   "outputs": [
    {
     "name": "stdout",
     "output_type": "stream",
     "text": [
      "Total rows: 34857\n",
      "-------\n",
      "Missing values\n",
      "Address        : 0\n",
      "Bathroom       : 8226\n",
      "Bedroom2       : 8217\n",
      "BuildingArea   : 21115\n",
      "Car            : 8728\n",
      "CouncilArea    : 3\n",
      "Date           : 0\n",
      "Distance       : 1\n",
      "Landsize       : 11810\n",
      "Lattitude      : 7976\n",
      "Longtitude     : 7976\n",
      "Method         : 0\n",
      "Postcode       : 1\n",
      "Price          : 7610\n",
      "Propertycount  : 3\n",
      "Regionname     : 3\n",
      "Rooms          : 0\n",
      "SellerG        : 0\n",
      "Suburb         : 0\n",
      "Type           : 0\n",
      "YearBuilt      : 19306\n"
     ]
    }
   ],
   "source": [
    "print(f\"Total rows: {len(df)}\")\n",
    "print(\"-------\")\n",
    "print(\"Missing values\")\n",
    "\n",
    "def find_missing_values(df, column):\n",
    "    print(f\"{column.ljust(15, ' ')}: {df[column].isnull().sum()}\")\n",
    "    \n",
    "for column in sorted(list(df.columns)):\n",
    "    find_missing_values(df, column)"
   ]
  },
  {
   "cell_type": "code",
   "execution_count": 689,
   "metadata": {},
   "outputs": [
    {
     "name": "stdout",
     "output_type": "stream",
     "text": [
      "Total houses have more than 5 rooms: 269 (0.7717244742806323%)\n"
     ]
    },
    {
     "data": {
      "image/png": "[encoded data removed]",
      "text/plain": [
       "<Figure size 432x288 with 1 Axes>"
      ]
     },
     "metadata": {
      "needs_background": "light"
     },
     "output_type": "display_data"
    }
   ],
   "source": [
    "plt.hist(df[\"Rooms\"], 100);\n",
    "\n",
    "# There are a few houses having rooms greater than 5, which is likely contribute to the noise\n",
    "room_limit = 5\n",
    "total_house_above_limit = (df[\"Rooms\"] > room_limit).sum()\n",
    "print(f\"Total houses have more than {room_limit} rooms: {total_house_above_limit} ({total_house_above_limit / len(df) * 100}%)\")"
   ]
  },
  {
   "cell_type": "code",
   "execution_count": 690,
   "metadata": {},
   "outputs": [
    {
     "name": "stdout",
     "output_type": "stream",
     "text": [
      "Total houses have more than 5 bedrooms: 224 (0.6426255845310842%)\n"
     ]
    },
    {
     "data": {
      "image/png": "[encoded data removed]",
      "text/plain": [
       "<Figure size 432x288 with 1 Axes>"
      ]
     },
     "metadata": {
      "needs_background": "light"
     },
     "output_type": "display_data"
    }
   ],
   "source": [
    "plt.hist(df[\"Bedroom2\"], 100);\n",
    "\n",
    "bedroom_limit = 5\n",
    "total_house_above_limit = (df[\"Bedroom2\"] > bedroom_limit).sum()\n",
    "print(f\"Total houses have more than {bedroom_limit} bedrooms: {total_house_above_limit} ({total_house_above_limit / len(df) * 100}%)\")"
   ]
  },
  {
   "cell_type": "code",
   "execution_count": 691,
   "metadata": {},
   "outputs": [
    {
     "name": "stdout",
     "output_type": "stream",
     "text": [
      "Total houses have more than 3 bathrooms: 371 (1.064348624379608%)\n"
     ]
    },
    {
     "data": {
      "image/png": "[encoded data removed]",
      "text/plain": [
       "<Figure size 432x288 with 1 Axes>"
      ]
     },
     "metadata": {
      "needs_background": "light"
     },
     "output_type": "display_data"
    }
   ],
   "source": [
    "plt.hist(df[\"Bathroom\"], 100);\n",
    "\n",
    "bathroom_limit = 3\n",
    "total_house_above_limit = (df[\"Bathroom\"] > bathroom_limit).sum()\n",
    "print(f\"Total houses have more than {bathroom_limit} bathrooms: {total_house_above_limit} ({total_house_above_limit / len(df) * 100}%)\")"
   ]
  },
  {
   "cell_type": "code",
   "execution_count": 692,
   "metadata": {},
   "outputs": [
    {
     "name": "stdout",
     "output_type": "stream",
     "text": [
      "Total houses built not in the range of [1800, 2020]: 2 (0.005737728433313252%)\n"
     ]
    },
    {
     "data": {
      "image/png": "[encoded data removed]",
      "text/plain": [
       "<Figure size 432x288 with 1 Axes>"
      ]
     },
     "metadata": {
      "needs_background": "light"
     },
     "output_type": "display_data"
    }
   ],
   "source": [
    "plt.hist(df[\"YearBuilt\"], 100);\n",
    "\n",
    "year_built_limit = [1800, 2020]\n",
    "total_house_above_limit = len(df[(df[\"YearBuilt\"] < year_built_limit[0]) | (df[\"YearBuilt\"] > year_built_limit[1])])\n",
    "print(f\"Total houses built not in the range of {year_built_limit}: {total_house_above_limit} ({total_house_above_limit / len(df) * 100}%)\")"
   ]
  },
  {
   "cell_type": "code",
   "execution_count": 693,
   "metadata": {},
   "outputs": [
    {
     "name": "stdout",
     "output_type": "stream",
     "text": [
      "Total houses have more than 4 cars: 353 (1.0127090684797888%)\n"
     ]
    },
    {
     "data": {
      "image/png": "[encoded data removed]",
      "text/plain": [
       "<Figure size 432x288 with 1 Axes>"
      ]
     },
     "metadata": {
      "needs_background": "light"
     },
     "output_type": "display_data"
    }
   ],
   "source": [
    "plt.hist(df[\"Car\"], 100);\n",
    "\n",
    "car_limit = 4\n",
    "total_house_above_limit = (df[\"Car\"] > car_limit).sum()\n",
    "print(f\"Total houses have more than {car_limit} cars: {total_house_above_limit} ({total_house_above_limit / len(df) * 100}%)\")"
   ]
  },
  {
   "cell_type": "code",
   "execution_count": 694,
   "metadata": {},
   "outputs": [
    {
     "data": {
      "image/png": "[encoded data removed]",
      "text/plain": [
       "<Figure size 1440x576 with 1 Axes>"
      ]
     },
     "metadata": {
      "needs_background": "light"
     },
     "output_type": "display_data"
    }
   ],
   "source": [
    "council_area = df[\"CouncilArea\"].value_counts()\n",
    "\n",
    "fig, ax = plt.subplots(1, 1, figsize=(20, 8))\n",
    "ax.bar(council_area.index, council_area.values);"
   ]
  },
  {
   "cell_type": "code",
   "execution_count": 695,
   "metadata": {},
   "outputs": [
    {
     "name": "stdout",
     "output_type": "stream",
     "text": [
      "Total houses have landsize more than 2000m2: 361 (1.035659982213042%)\n"
     ]
    },
    {
     "data": {
      "image/png": "[encoded data removed]",
      "text/plain": [
       "<Figure size 432x288 with 1 Axes>"
      ]
     },
     "metadata": {
      "needs_background": "light"
     },
     "output_type": "display_data"
    }
   ],
   "source": [
    "plt.hist(df[\"Landsize\"], 100);\n",
    "\n",
    "landsize_limit = 2000\n",
    "total_house_above_limit = (df[\"Landsize\"] > landsize_limit).sum()\n",
    "print(f\"Total houses have landsize more than {landsize_limit}m2: {total_house_above_limit} ({total_house_above_limit / len(df) * 100}%)\")\n",
    "# \"Price\",\n",
    "# \"Car\",\n",
    "# \"CouncilArea\","
   ]
  },
  {
   "cell_type": "code",
   "execution_count": 696,
   "metadata": {},
   "outputs": [
    {
     "name": "stdout",
     "output_type": "stream",
     "text": [
      "Total houses have distance more than 35km: 425 (1.219267292079066%)\n"
     ]
    },
    {
     "data": {
      "image/png": "[encoded data removed]",
      "text/plain": [
       "<Figure size 432x288 with 1 Axes>"
      ]
     },
     "metadata": {
      "needs_background": "light"
     },
     "output_type": "display_data"
    }
   ],
   "source": [
    "plt.hist(df[\"Distance\"], 100);\n",
    "\n",
    "distance_limit = 35\n",
    "total_house_above_limit = (df[\"Distance\"] > distance_limit).sum()\n",
    "print(f\"Total houses have distance more than {distance_limit}km: {total_house_above_limit} ({total_house_above_limit / len(df) * 100}%)\")"
   ]
  },
  {
   "cell_type": "code",
   "execution_count": 697,
   "metadata": {},
   "outputs": [
    {
     "name": "stdout",
     "output_type": "stream",
     "text": [
      "Total houses have distance more than 20000km: 844 (2.421321398858192%)\n"
     ]
    },
    {
     "data": {
      "image/png": "[encoded data removed]",
      "text/plain": [
       "<Figure size 432x288 with 1 Axes>"
      ]
     },
     "metadata": {
      "needs_background": "light"
     },
     "output_type": "display_data"
    }
   ],
   "source": [
    "plt.hist(df[\"Propertycount\"], 100);\n",
    "\n",
    "propertycount_limit = 20000\n",
    "total_house_above_limit = (df[\"Propertycount\"] > propertycount_limit).sum()\n",
    "print(f\"Total houses have distance more than {propertycount_limit}km: {total_house_above_limit} ({total_house_above_limit / len(df) * 100}%)\")"
   ]
  },
  {
   "cell_type": "markdown",
   "metadata": {},
   "source": [
    "# Solution for missing values (first build the baseline)\n",
    "\n",
    "- __Suburb__         : 0\n",
    "- __Address__        : 0\n",
    "- __Rooms__          : 0\n",
    "- __Type__           : 0\n",
    "- __Price__          : 7610  --> Avarage || Drop rows\n",
    "- __Method__         : 0\n",
    "- __SellerG__        : 0\n",
    "- __Date__           : 0\n",
    "- __Distance__       : 1     --> Avarage (based on what)\n",
    "- __Postcode__       : 1     --> Median Based on Suburb\n",
    "- __Bedroom2__       : 8217  --> Average\n",
    "- __Bathroom__       : 8226  --> Average (based on what)\n",
    "- __Car__            : 8728  --> Average (based on what)\n",
    "- __Landsize__       : 11810 --> Drop column first\n",
    "- __BuildingArea__   : 21115 --> Drop column first\n",
    "- __YearBuilt__      : 19306 --> Should drop column? Important factor but missed many values\n",
    "- __CouncilArea__    : 3     --> Average\n",
    "- __Lattitude__      : 7976  --> Drop column (use coordinates to extract region -> late experiment)\n",
    "- __Longtitude__     : 7976  --> Drop column (use coordinates to extract region -> late experiment)\n",
    "- __Regionname__     : 3     --> Drop rows\n",
    "- __Propertycount__  : 3     --> Drop rows"
   ]
  },
  {
   "cell_type": "code",
   "execution_count": 698,
   "metadata": {},
   "outputs": [
    {
     "data": {
      "image/png": "[encoded data removed]",
      "text/plain": [
       "<Figure size 1152x864 with 2 Axes>"
      ]
     },
     "metadata": {
      "needs_background": "light"
     },
     "output_type": "display_data"
    }
   ],
   "source": [
    "fig, ax = plt.subplots(1, 1, figsize=(16, 12))\n",
    "sns.heatmap(df.corr(), annot=True, square=True, cmap='coolwarm', ax=ax);"
   ]
  },
  {
   "cell_type": "code",
   "execution_count": 699,
   "metadata": {},
   "outputs": [
    {
     "data": {
      "image/png": "[encoded data removed]",
      "text/plain": [
       "<Figure size 1152x864 with 2 Axes>"
      ]
     },
     "metadata": {
      "needs_background": "light"
     },
     "output_type": "display_data"
    }
   ],
   "source": [
    "fig, ax = plt.subplots(1, 1, figsize=(16, 12))\n",
    "sns.heatmap(df[[\"Rooms\", \"Bedroom2\", \"Bathroom\", \"Car\"]].corr(), annot=True, square=True, cmap=\"coolwarm\", ax=ax);"
   ]
  },
  {
   "cell_type": "code",
   "execution_count": 700,
   "metadata": {},
   "outputs": [],
   "source": [
    "# Divide the brokers into multiple range\n",
    "# VIP\n",
    "# Moderate\n",
    "# Amateur\n",
    "\n",
    "# Avg yearbuilt based on suburd + address\n",
    "\n",
    "# Show correlations and evaluate\n",
    "# Delve into particular problems\n",
    "# Apply PCA\n",
    "# Apply cross validation"
   ]
  },
  {
   "cell_type": "code",
   "execution_count": 701,
   "metadata": {},
   "outputs": [],
   "source": [
    "# backup the dataframe for the next tries\n",
    "df = backup_df.copy()\n",
    "now = datetime.datetime.now()\n",
    "\n",
    "# feature engineering\n",
    "# df[\"YearOld\"] = [now.year - int(e[2]) for e in df[\"Date\"].str.split(\"/\")]\n",
    "# filter noise of land size\n",
    "df = df[df[\"Landsize\"] <= landsize_limit]\n",
    "df = df[df[\"Distance\"] <= distance_limit]\n",
    "df = df[df[\"Rooms\"] <= room_limit]\n",
    "df = df[df[\"Bedroom2\"] <= bedroom_limit] # still filter for noisy data\n",
    "df = df[df[\"Bathroom\"] <= bathroom_limit]\n",
    "df = df[df[\"Car\"] <= car_limit]\n",
    "df = df[df[\"Propertycount\"] <= propertycount_limit]\n",
    "# df = df[(df[\"YearBuilt\"] <= 2020) | (df[\"YearBuilt\"].isnull())]\n",
    "df = df[((df[\"YearBuilt\"] >= year_built_limit[0]) & (df[\"YearBuilt\"] <= year_built_limit[1])) | (df[\"YearBuilt\"].isnull())]\n",
    "\n",
    "# drop columns\n",
    "dropped_columns = [\n",
    "    \"BuildingArea\",\n",
    "    \"Lattitude\",\n",
    "    \"Longtitude\",\n",
    "    \"Address\", # for experiment\n",
    "    \"Date\",\n",
    "    \"SellerG\", # for experiment\n",
    "    \"Date\",\n",
    "    \"Bedroom2\",\n",
    "    \"Suburb\", # for experiment\n",
    "#     \"CouncilArea\",\n",
    "]\n",
    "df = df.drop(dropped_columns, axis=1)\n",
    "\n",
    "# filter nan\n",
    "filter_nan_columns = [\n",
    "    \"Regionname\",\n",
    "    \"Propertycount\",\n",
    "    \"Price\",\n",
    "]\n",
    "for column in filter_nan_columns:\n",
    "    df = df[df[column].isnull() == False]\n",
    "\n",
    "# set avg to column\n",
    "avg_columns = [\n",
    "    \"Distance\",\n",
    "    \"Bathroom\",\n",
    "    \"Landsize\",\n",
    "    \"Car\",\n",
    "    \"YearBuilt\"\n",
    "]\n",
    "for column in avg_columns:\n",
    "    if df[column].dtype == np.float64:\n",
    "        df[column].replace(np.nan, df[column].mean(), inplace=True)\n",
    "\n",
    "# one hot encoding\n",
    "one_hot_encoding_columns = [\n",
    "#     \"Suburb\",\n",
    "    \"CouncilArea\",\n",
    "    \"Type\",\n",
    "    \"Method\",\n",
    "    \"Regionname\",\n",
    "]\n",
    "for column in one_hot_encoding_columns:\n",
    "    df = df.join(pd.get_dummies(df[column], column))\n",
    "    \n",
    "df = df.drop(one_hot_encoding_columns, axis=1)"
   ]
  },
  {
   "cell_type": "code",
   "execution_count": 702,
   "metadata": {},
   "outputs": [],
   "source": [
    "from sklearn.model_selection import train_test_split\n",
    "from sklearn.linear_model import LinearRegression\n",
    "from sklearn.preprocessing import MinMaxScaler\n",
    "from sklearn.metrics import mean_squared_error"
   ]
  },
  {
   "cell_type": "code",
   "execution_count": 703,
   "metadata": {},
   "outputs": [],
   "source": [
    "X = df.drop([\"Price\"], axis=1)\n",
    "y = df[\"Price\"]\n",
    "\n",
    "min_max_scaler = MinMaxScaler()\n",
    "X = min_max_scaler.fit_transform(X)\n",
    "\n",
    "X_train, X_test, y_train, y_test = train_test_split(X, y, test_size=0.25, random_state=3)"
   ]
  },
  {
   "cell_type": "code",
   "execution_count": 704,
   "metadata": {},
   "outputs": [],
   "source": [
    "model = LinearRegression()\n",
    "model.fit(X_train, y_train);"
   ]
  },
  {
   "cell_type": "code",
   "execution_count": 705,
   "metadata": {},
   "outputs": [
    {
     "name": "stdout",
     "output_type": "stream",
     "text": [
      "\n",
      "    \"bathroom_limit\": 3,\n",
      "    \"bedroom_limit\": 5,\n",
      "    \"car_limit\": 4,\n",
      "    \"distance_limit\": 35,\n",
      "    \"landsize_limit\": 2000,\n",
      "    \"room_limit\": 5,\n",
      "    \"year_built_limit\": [1800, 2020],\n",
      "    \"dropped_columns\": ['BuildingArea', 'Lattitude', 'Longtitude', 'Address', 'Date', 'SellerG', 'Date', 'Bedroom2', 'Suburb', 'CouncilArea'],\n",
      "    \"filter_nan_columns\": ['Regionname', 'Propertycount', 'Price'],\n",
      "    \"avg_columns\": ['Distance', 'Bathroom', 'Landsize', 'Car', 'YearBuilt'],\n",
      "    \"one_hot_encoding_columns\": ['Type', 'Method', 'Regionname'],\n",
      "    \"training_score\": 0.6218933918816846,\n",
      "    \"training_mse\": 11572791.453624846,\n",
      "    \"test_score\": 0.5765377622576904,\n",
      "    \"test_mse\": 43278136.708658196,\n",
      "\n"
     ]
    }
   ],
   "source": [
    "import pprint\n",
    "\n",
    "training_score = model.score(X_train, y_train)\n",
    "test_score = model.score(X_test, y_test)\n",
    "\n",
    "training_mse_avg = mean_squared_error(model.predict(X_train), y_train) / len(y_train)\n",
    "test_mse_avg = mean_squared_error(model.predict(X_test), y_test) / len(y_test)\n",
    "\n",
    "print(f\"\"\"\n",
    "    \"bathroom_limit\": {bathroom_limit},\n",
    "    \"bedroom_limit\": {bedroom_limit},\n",
    "    \"car_limit\": {car_limit},\n",
    "    \"distance_limit\": {distance_limit},\n",
    "    \"landsize_limit\": {landsize_limit},\n",
    "    \"room_limit\": {room_limit},\n",
    "    \"year_built_limit\": {year_built_limit},\n",
    "    \"dropped_columns\": {dropped_columns},\n",
    "    \"filter_nan_columns\": {filter_nan_columns},\n",
    "    \"avg_columns\": {avg_columns},\n",
    "    \"one_hot_encoding_columns\": {one_hot_encoding_columns},\n",
    "    \"training_score\": {training_score},\n",
    "    \"training_mse\": {training_mse_avg},\n",
    "    \"test_score\": {test_score},\n",
    "    \"test_mse\": {test_mse_avg},\n",
    "\"\"\")"
   ]
  },
  {
   "cell_type": "markdown",
   "metadata": {},
   "source": [
    "## Experiments (Params and results)\n",
    "\n",
    "```\n",
    "----- When drop suburd --> not one hot encoding --> test_mse is tremendously reduced\n",
    "    \"bathroom_limit\": 3,\n",
    "    \"bedroom_limit\": 5,\n",
    "    \"car_limit\": 4,\n",
    "    \"distance_limit\": 35,\n",
    "    \"landsize_limit\": 2000,\n",
    "    \"room_limit\": 5,\n",
    "    \"year_built_limit\": [1800, 2020],\n",
    "    \"dropped_columns\": ['BuildingArea', 'Lattitude', 'Longtitude', 'Address', 'Date', 'SellerG', 'Date', 'Bedroom2', 'Suburb'],\n",
    "    \"filter_nan_columns\": ['Regionname', 'Propertycount', 'Price'],\n",
    "    \"avg_columns\": ['Distance', 'Bathroom', 'Landsize', 'Car', 'YearBuilt'],\n",
    "    \"one_hot_encoding_columns\": ['Type', 'Method', 'Regionname', 'CouncilArea'],\n",
    "    \"training_score\": 0.6618985295025552,\n",
    "    \"training_mse\": 10348345.477755982,\n",
    "    \"test_score\": 0.6148690793392289,\n",
    "    \"test_mse\": 39360649.30831237,\n",
    "    \n",
    "----- With landsize\n",
    "    \"bathroom_limit\": 3,\n",
    "    \"bedroom_limit\": 5,\n",
    "    \"car_limit\": 4,\n",
    "    \"distance_limit\": 35,\n",
    "    \"landsize_limit\": 2000,\n",
    "    \"room_limit\": 5,\n",
    "    \"year_built_limit\": [1800, 2020],\n",
    "    \"dropped_columns\": ['BuildingArea', 'Lattitude', 'Longtitude', 'Address', 'Date', 'SellerG', 'Date', 'Bedroom2'],\n",
    "    \"filter_nan_columns\": ['Regionname', 'Propertycount', 'Price'],\n",
    "    \"avg_columns\": ['Distance', 'Bathroom', 'Landsize', 'Car', 'YearBuilt'],\n",
    "    \"one_hot_encoding_columns\": ['Suburb', 'Type', 'Method', 'Regionname', 'CouncilArea'],\n",
    "    \"training_score\": 0.7215606663190579,\n",
    "    \"training_mse\": 8522253.43855268,\n",
    "    \"test_score\": -3.843173467698076e+20,\n",
    "    \"test_mse\": 3.927750148794606e+28,\n",
    "\n",
    "----- Without bedroom (MSE is lower than with bedroom)\n",
    "    \"bathroom_limit\": 3,\n",
    "    \"bedroom_limit\": 5,\n",
    "    \"car_limit\": 4,\n",
    "    \"distance_limit\": 35,\n",
    "    \"landsize_limit\": 2000,\n",
    "    \"room_limit\": 5,\n",
    "    \"year_built_limit\": [1800, 2020],\n",
    "    \"dropped_columns\": ['Landsize', 'BuildingArea', 'Lattitude', 'Longtitude', 'Address', 'Date', 'SellerG', 'Date', 'Bedroom2'],\n",
    "    \"filter_nan_columns\": ['Regionname', 'Propertycount', 'Price'],\n",
    "    \"avg_columns\": ['Distance', 'Bathroom', 'Car', 'YearBuilt'],\n",
    "    \"one_hot_encoding_columns\": ['Suburb', 'Type', 'Method', 'Regionname', 'CouncilArea'],\n",
    "    \"training_score\": 0.704801975367618,\n",
    "    \"training_mse\": 9035190.34907627,\n",
    "    \"test_score\": -2.2286497621601668e+20,\n",
    "    \"test_mse\": 2.277695635783711e+28,\n",
    "```\n",
    "\n",
    "```\n",
    "----- With bedroom\n",
    "    \"bathroom_limit\": 3,\n",
    "    \"bedroom_limit\": 5,\n",
    "    \"car_limit\": 4,\n",
    "    \"distance_limit\": 35,\n",
    "    \"landsize_limit\": 2000,\n",
    "    \"room_limit\": 5,\n",
    "    \"year_built_limit\": [1800, 2020],\n",
    "    \"dropped_columns\": ['Landsize', 'BuildingArea', 'Lattitude', 'Longtitude', 'Address', 'Date', 'SellerG', 'Date'],\n",
    "    \"filter_nan_columns\": ['Regionname', 'Propertycount', 'Price'],\n",
    "    \"avg_columns\": ['Distance', 'Bathroom', 'Bedroom2', 'Car', 'YearBuilt'],\n",
    "    \"one_hot_encoding_columns\": ['Suburb', 'Type', 'Method', 'Regionname', 'CouncilArea'],\n",
    "    \"training_score\": 0.7051012928802494,\n",
    "    \"training_mse\": 9026029.072659181,\n",
    "    \"test_score\": -1.2512732164595332e+21,\n",
    "    \"test_mse\": 1.2788099739550295e+29,\n",
    "```\n",
    "\n",
    "```\n",
    "----- Clear nan Price (MSE is better than averaging)\n",
    "    \"bathroom_limit\": 3,\n",
    "    \"bedroom_limit\": 4,\n",
    "    \"car_limit\": 4,\n",
    "    \"distance_limit\": 35,\n",
    "    \"landsize_limit\": 2000,\n",
    "    \"room_limit\": 4,\n",
    "    \"dropped_columns\": ['Landsize', 'BuildingArea', 'Lattitude', 'Longtitude', 'YearBuilt', 'Address', 'Date', 'SellerG'],\n",
    "    \"filter_nan_columns\": ['Regionname', 'Propertycount', 'Price'],\n",
    "    \"avg_columns\": ['Distance', 'Bedroom2', 'Bathroom', 'Car', 'CouncilArea'],\n",
    "    \"one_hot_encoding_columns\": ['Suburb', 'Type', 'Method', 'Regionname', 'CouncilArea'],\n",
    "    \"training_score\": 0.6906554844989757,\n",
    "    \"training_mse\": 8444398.947926186,\n",
    "    \"test_score\": -6.389756999818528e+21,\n",
    "    \"test_mse\": 6.144681940636663e+29,\n",
    "```\n",
    "\n",
    "```\n",
    "---- Avg nan Price\n",
    "    \"bathroom_limit\": 3,\n",
    "    \"bedroom_limit\": 5,\n",
    "    \"car_limit\": 4,\n",
    "    \"distance_limit\": 35,\n",
    "    \"landsize_limit\": 2000,\n",
    "    \"room_limit\": 5,\n",
    "    \"dropped_columns\": ['Landsize', 'BuildingArea', 'Lattitude', 'Longtitude', 'YearBuilt', 'Address', 'Date', 'SellerG'],\n",
    "    \"filter_nan_columns\": ['Regionname', 'Propertycount'],\n",
    "    \"avg_columns\": ['Distance', 'Bedroom2', 'Bathroom', 'Car', 'CouncilArea', 'Price'],\n",
    "    \"one_hot_encoding_columns\": ['Suburb', 'Type', 'Method', 'Regionname', 'CouncilArea'],\n",
    "    \"training_score\": 0.5029821989872905,\n",
    "    \"training_mse\": 9232753.993382506,\n",
    "    \"test_score\": -1.8769615986582075e+22,\n",
    "    \"test_mse\": 1.052477666779017e+30,\n",
    "```"
   ]
  },
  {
   "cell_type": "code",
   "execution_count": 706,
   "metadata": {},
   "outputs": [
    {
     "data": {
      "image/png": "[encoded data removed]",
      "text/plain": [
       "<Figure size 432x288 with 1 Axes>"
      ]
     },
     "metadata": {
      "needs_background": "light"
     },
     "output_type": "display_data"
    },
    {
     "data": {
      "image/png": "[encoded data removed]",
      "text/plain": [
       "<Figure size 432x288 with 1 Axes>"
      ]
     },
     "metadata": {
      "needs_background": "light"
     },
     "output_type": "display_data"
    }
   ],
   "source": [
    "plt.hist(model.predict(X_test), 100, color=\"green\")\n",
    "plt.show();\n",
    "\n",
    "plt.hist(y_test.values, 100, color=\"orange\")\n",
    "plt.show();"
   ]
  },
  {
   "cell_type": "code",
   "execution_count": 707,
   "metadata": {},
   "outputs": [
    {
     "data": {
      "text/plain": [
       "array([-149504., -152576., -222208., -182272., -274432.,  -48128.,\n",
       "       -194560.,  -73728., -126976., -126976., -256000.,  -19456.,\n",
       "       -112640.,  -40960., -163840., -163840.,  -49152.,  -72704.,\n",
       "       -118784.,  -88064.,  -43008.,   -9216.,  -61440., -118784.,\n",
       "       -229376.,  -26624., -319488., -185344.,   -4096., -144384.,\n",
       "       -149504.,   -3072., -898048.,  -84992.])"
      ]
     },
     "execution_count": 707,
     "metadata": {},
     "output_type": "execute_result"
    }
   ],
   "source": [
    "test = model.predict(X_test)\n",
    "test[test < 0]"
   ]
  },
  {
   "cell_type": "code",
   "execution_count": 708,
   "metadata": {},
   "outputs": [
    {
     "data": {
      "text/plain": [
       "(5970     1331000.0\n",
       " 20023    2675000.0\n",
       " 20160    1150000.0\n",
       " 3891     1122000.0\n",
       " 14864     600000.0\n",
       "            ...    \n",
       " 8239     1127000.0\n",
       " 20154    1550000.0\n",
       " 27113     757500.0\n",
       " 21054    1441000.0\n",
       " 29537    1245000.0\n",
       " Name: Price, Length: 4082, dtype: float64,\n",
       " array([1499136., 1781760., 1892352., ...,  674816., 1274880.,  889856.]))"
      ]
     },
     "execution_count": 708,
     "metadata": {},
     "output_type": "execute_result"
    }
   ],
   "source": [
    "y_test,model.predict(X_test)"
   ]
  },
  {
   "cell_type": "code",
   "execution_count": 709,
   "metadata": {},
   "outputs": [
    {
     "data": {
      "text/plain": [
       "2021"
      ]
     },
     "execution_count": 709,
     "metadata": {},
     "output_type": "execute_result"
    }
   ],
   "source": [
    "# 0.4933872158018002\n",
    "# 0.4933726065141658\n",
    "import datetime\n",
    "now = datetime.datetime.now()\n",
    "now.year"
   ]
  },
  {
   "cell_type": "code",
   "execution_count": 710,
   "metadata": {},
   "outputs": [
    {
     "name": "stdout",
     "output_type": "stream",
     "text": [
      "Test score: 0.5765377622576904\n"
     ]
    }
   ],
   "source": [
    "print(\"Test score:\", model.score(X_test, y_test))"
   ]
  },
  {
   "cell_type": "code",
   "execution_count": null,
   "metadata": {},
   "outputs": [],
   "source": []
  }
 ],
 "metadata": {
  "kernelspec": {
   "display_name": "Python 3",
   "language": "python",
   "name": "python3"
  },
  "language_info": {
   "codemirror_mode": {
    "name": "ipython",
    "version": 3
   },
   "file_extension": ".py",
   "mimetype": "text/x-python",
   "name": "python",
   "nbconvert_exporter": "python",
   "pygments_lexer": "ipython3",
   "version": "3.7.6"
  }
 },
 "nbformat": 4,
 "nbformat_minor": 4
}
