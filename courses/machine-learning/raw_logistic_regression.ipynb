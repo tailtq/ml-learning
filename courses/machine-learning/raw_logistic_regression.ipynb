{
 "cells": [
  {
   "cell_type": "code",
   "execution_count": 1,
   "metadata": {},
   "outputs": [],
   "source": [
    "import numpy as np\n",
    "import matplotlib.pyplot as plt"
   ]
  },
  {
   "cell_type": "markdown",
   "metadata": {},
   "source": [
    "## Logistic Regression"
   ]
  },
  {
   "cell_type": "code",
   "execution_count": 2,
   "metadata": {},
   "outputs": [],
   "source": [
    "from logistic_regression import LogisticRegression"
   ]
  },
  {
   "cell_type": "code",
   "execution_count": 3,
   "metadata": {},
   "outputs": [
    {
     "name": "stdout",
     "output_type": "stream",
     "text": [
      "Epoch 1 cost: 0.125\n",
      "Epoch 100 cost: 0.16585217924056161\n",
      "Epoch 200 cost: 0.0893080076227839\n",
      "Epoch 300 cost: 0.07580912280786843\n",
      "Epoch 400 cost: 0.059299245196213934\n",
      "Epoch 500 cost: 0.04486257738324578\n",
      "Epoch 600 cost: 0.03482203124772591\n",
      "Epoch 700 cost: 0.02289353287053504\n",
      "Epoch 800 cost: 0.017885344285312094\n",
      "Epoch 900 cost: 0.01396941136613557\n",
      "Epoch 1000 cost: 0.008255883960977088\n",
      "Epoch 1100 cost: 0.0019973713655996885\n",
      "Epoch 1200 cost: 0.0019724868396352674\n",
      "Epoch 1300 cost: 0.0019547899331978707\n",
      "Epoch 1400 cost: 0.0019373688344510593\n",
      "Epoch 1500 cost: 0.0019202092966325891\n",
      "Epoch 1600 cost: 0.0019033052669935144\n",
      "Epoch 1700 cost: 0.0018866508972734998\n",
      "Epoch 1800 cost: 0.0018702405297230992\n",
      "Epoch 1900 cost: 0.001854068688904125\n",
      "Epoch 2000 cost: 0.001838130073929889\n",
      "Epoch 2100 cost: 0.0018224195511162007\n",
      "Epoch 2200 cost: 0.001806932147017052\n",
      "Epoch 2300 cost: 0.0017916630418211617\n",
      "Epoch 2400 cost: 0.001776607563087048\n",
      "Epoch 2500 cost: 0.0017617611797959894\n",
      "Epoch 2600 cost: 0.001747119496703661\n",
      "Epoch 2700 cost: 0.0017326782489725055\n",
      "Epoch 2800 cost: 0.001718433297068341\n",
      "Epoch 2900 cost: 0.0017043806219055693\n",
      "Epoch 3000 cost: 0.0016905163202266\n"
     ]
    }
   ],
   "source": [
    "inputs = np.array([[1], [2], [3], [4], [5], [6], [7], [8], [9], [10], [11], [12], [13], [14], [15], [16], [17], [18], [19], [20]])\n",
    "outputs = np.array([[0], [0], [0], [0], [0], [0], [0], [0], [0], [0], [1], [1], [1], [1], [1], [1], [1], [1], [1], [1]])\n",
    "\n",
    "model = LogisticRegression()\n",
    "model.fit(inputs, outputs, 3000, 1)"
   ]
  },
  {
   "cell_type": "code",
   "execution_count": 4,
   "metadata": {},
   "outputs": [
    {
     "data": {
      "text/plain": [
       "array([[0.51608143]])"
      ]
     },
     "execution_count": 4,
     "metadata": {},
     "output_type": "execute_result"
    }
   ],
   "source": [
    "test = np.array([[10.5]])\n",
    "\n",
    "model.predict(test)"
   ]
  },
  {
   "cell_type": "code",
   "execution_count": 5,
   "metadata": {},
   "outputs": [
    {
     "data": {
      "text/plain": [
       "[<matplotlib.lines.Line2D at 0x1117d57f0>]"
      ]
     },
     "execution_count": 5,
     "metadata": {},
     "output_type": "execute_result"
    },
    {
     "data": {
      "image/png": "[encoded data removed]",
      "text/plain": [
       "<Figure size 432x288 with 1 Axes>"
      ]
     },
     "metadata": {
      "needs_background": "light"
     },
     "output_type": "display_data"
    }
   ],
   "source": [
    "plt.plot(inputs, outputs)"
   ]
  },
  {
   "cell_type": "code",
   "execution_count": null,
   "metadata": {},
   "outputs": [],
   "source": []
  }
 ],
 "metadata": {
  "kernelspec": {
   "display_name": "Python 3",
   "language": "python",
   "name": "python3"
  },
  "language_info": {
   "codemirror_mode": {
    "name": "ipython",
    "version": 3
   },
   "file_extension": ".py",
   "mimetype": "text/x-python",
   "name": "python",
   "nbconvert_exporter": "python",
   "pygments_lexer": "ipython3",
   "version": "3.6.6"
  }
 },
 "nbformat": 4,
 "nbformat_minor": 4
}
